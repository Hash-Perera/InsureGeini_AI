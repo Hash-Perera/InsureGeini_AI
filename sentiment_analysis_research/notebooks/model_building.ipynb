{
 "cells": [
  {
   "cell_type": "code",
   "execution_count": 1,
   "id": "fc34600e-d451-457e-aca3-a86c26bd2890",
   "metadata": {
    "dotnet_interactive": {
     "language": "csharp"
    },
    "polyglot_notebook": {
     "kernelName": "csharp"
    },
    "vscode": {
     "languageId": "polyglot-notebook"
    }
   },
   "outputs": [],
   "source": [
    "import numpy as np\n",
    "import pandas as pd\n",
    "import matplotlib.pyplot as plt"
   ]
  },
  {
   "cell_type": "code",
   "execution_count": null,
   "id": "c818d25f",
   "metadata": {
    "dotnet_interactive": {
     "language": "csharp"
    },
    "polyglot_notebook": {
     "kernelName": "csharp"
    },
    "vscode": {
     "languageId": "polyglot-notebook"
    }
   },
   "outputs": [],
   "source": []
  },
  {
   "cell_type": "markdown",
   "id": "337323fe-6459-450e-ae6b-a0557e823665",
   "metadata": {},
   "source": [
    "## import dataset"
   ]
  },
  {
   "cell_type": "code",
   "execution_count": 2,
   "id": "36545627-5035-4c63-a91f-4fc907cbf0a6",
   "metadata": {
    "dotnet_interactive": {
     "language": "csharp"
    },
    "polyglot_notebook": {
     "kernelName": "csharp"
    },
    "vscode": {
     "languageId": "polyglot-notebook"
    }
   },
   "outputs": [],
   "source": [
    "data = pd.read_csv('../artifacts/ds.csv')"
   ]
  },
  {
   "cell_type": "code",
   "execution_count": 3,
   "id": "702ffffc-a58b-4b03-ae31-84181822c692",
   "metadata": {
    "dotnet_interactive": {
     "language": "csharp"
    },
    "polyglot_notebook": {
     "kernelName": "csharp"
    },
    "vscode": {
     "languageId": "polyglot-notebook"
    }
   },
   "outputs": [
    {
     "data": {
      "text/html": [
       "<div>\n",
       "<style scoped>\n",
       "    .dataframe tbody tr th:only-of-type {\n",
       "        vertical-align: middle;\n",
       "    }\n",
       "\n",
       "    .dataframe tbody tr th {\n",
       "        vertical-align: top;\n",
       "    }\n",
       "\n",
       "    .dataframe thead th {\n",
       "        text-align: right;\n",
       "    }\n",
       "</style>\n",
       "<table border=\"1\" class=\"dataframe\">\n",
       "  <thead>\n",
       "    <tr style=\"text-align: right;\">\n",
       "      <th></th>\n",
       "      <th>category (text)</th>\n",
       "      <th>category (binary)</th>\n",
       "      <th>sentiment (text)</th>\n",
       "      <th>sentiment (binary)</th>\n",
       "      <th>feedback</th>\n",
       "    </tr>\n",
       "  </thead>\n",
       "  <tbody>\n",
       "    <tr>\n",
       "      <th>0</th>\n",
       "      <td>claim</td>\n",
       "      <td>0</td>\n",
       "      <td>negative</td>\n",
       "      <td>1</td>\n",
       "      <td>I'm extremely disappointed with the lengthy an...</td>\n",
       "    </tr>\n",
       "    <tr>\n",
       "      <th>1</th>\n",
       "      <td>claim</td>\n",
       "      <td>0</td>\n",
       "      <td>negative</td>\n",
       "      <td>1</td>\n",
       "      <td># Inefficient communication and lack of transp...</td>\n",
       "    </tr>\n",
       "    <tr>\n",
       "      <th>2</th>\n",
       "      <td>claim</td>\n",
       "      <td>0</td>\n",
       "      <td>negative</td>\n",
       "      <td>1</td>\n",
       "      <td>I recently had a terrible experience with the ...</td>\n",
       "    </tr>\n",
       "    <tr>\n",
       "      <th>3</th>\n",
       "      <td>claim</td>\n",
       "      <td>0</td>\n",
       "      <td>negative</td>\n",
       "      <td>1</td>\n",
       "      <td>##$ I am extremely dissatisfied with the vehic...</td>\n",
       "    </tr>\n",
       "    <tr>\n",
       "      <th>4</th>\n",
       "      <td>claim</td>\n",
       "      <td>0</td>\n",
       "      <td>negative</td>\n",
       "      <td>1</td>\n",
       "      <td># Poor communication throughout the entire pro...</td>\n",
       "    </tr>\n",
       "  </tbody>\n",
       "</table>\n",
       "</div>"
      ],
      "text/plain": [
       "  category (text)  category (binary) sentiment (text)  sentiment (binary)  \\\n",
       "0           claim                  0         negative                   1   \n",
       "1           claim                  0         negative                   1   \n",
       "2           claim                  0         negative                   1   \n",
       "3           claim                  0         negative                   1   \n",
       "4           claim                  0         negative                   1   \n",
       "\n",
       "                                            feedback  \n",
       "0  I'm extremely disappointed with the lengthy an...  \n",
       "1  # Inefficient communication and lack of transp...  \n",
       "2  I recently had a terrible experience with the ...  \n",
       "3  ##$ I am extremely dissatisfied with the vehic...  \n",
       "4  # Poor communication throughout the entire pro...  "
      ]
     },
     "execution_count": 3,
     "metadata": {},
     "output_type": "execute_result"
    }
   ],
   "source": [
    "data.head()"
   ]
  },
  {
   "cell_type": "markdown",
   "id": "52014b44-cf34-41c2-a420-baf619bf614b",
   "metadata": {},
   "source": [
    "## Data Preprocessing"
   ]
  },
  {
   "cell_type": "code",
   "execution_count": 4,
   "id": "bb9d9572-f0f1-48c8-b5f2-043ebc2dea89",
   "metadata": {
    "dotnet_interactive": {
     "language": "csharp"
    },
    "polyglot_notebook": {
     "kernelName": "csharp"
    },
    "vscode": {
     "languageId": "polyglot-notebook"
    }
   },
   "outputs": [
    {
     "data": {
      "text/plain": [
       "(7585, 5)"
      ]
     },
     "execution_count": 4,
     "metadata": {},
     "output_type": "execute_result"
    }
   ],
   "source": [
    "data.shape"
   ]
  },
  {
   "cell_type": "markdown",
   "id": "655ecbe9-0de8-4d80-9a4d-b08f0e69c4fa",
   "metadata": {},
   "source": [
    "#### remove duplicates"
   ]
  },
  {
   "cell_type": "code",
   "execution_count": 5,
   "id": "bc5e4e32-de1d-458a-b1b1-14863489895e",
   "metadata": {
    "dotnet_interactive": {
     "language": "csharp"
    },
    "polyglot_notebook": {
     "kernelName": "csharp"
    },
    "vscode": {
     "languageId": "polyglot-notebook"
    }
   },
   "outputs": [
    {
     "data": {
      "text/plain": [
       "np.int64(110)"
      ]
     },
     "execution_count": 5,
     "metadata": {},
     "output_type": "execute_result"
    }
   ],
   "source": [
    "data.duplicated().sum()"
   ]
  },
  {
   "cell_type": "code",
   "execution_count": 6,
   "id": "3e3fd121-f801-4ffa-ac0f-c87a9ead88d1",
   "metadata": {
    "dotnet_interactive": {
     "language": "csharp"
    },
    "polyglot_notebook": {
     "kernelName": "csharp"
    },
    "vscode": {
     "languageId": "polyglot-notebook"
    }
   },
   "outputs": [
    {
     "name": "stdout",
     "output_type": "stream",
     "text": [
      "     category (text)  category (binary) sentiment (text)  sentiment (binary)  \\\n",
      "38             claim                  0         negative                   1   \n",
      "41             claim                  0         negative                   1   \n",
      "497            claim                  0         negative                   1   \n",
      "498            claim                  0         negative                   1   \n",
      "572            claim                  0         negative                   1   \n",
      "...              ...                ...              ...                 ...   \n",
      "7266         service                  1         positive                   0   \n",
      "7267         service                  1         positive                   0   \n",
      "7268         service                  1         positive                   0   \n",
      "7269         service                  1         positive                   0   \n",
      "7463         service                  1         positive                   0   \n",
      "\n",
      "                                               feedback  \n",
      "38    When I filed a claim for a broken window on my...  \n",
      "41    I'm very disappointed with the way my car insu...  \n",
      "497   @ The claim process was frustrating and time-c...  \n",
      "498   # The claim process was frustrating and time-c...  \n",
      "572   ## I am extremely dissatisfied with the vehicl...  \n",
      "...                                                 ...  \n",
      "7266  $ I'm so impressed with the service I received...  \n",
      "7267  # The service I received from MetLife was outs...  \n",
      "7268  * I'm extremely satisfied with the service I r...  \n",
      "7269  @ The customer service at The Hartford was exc...  \n",
      "7463  # Excellent customer service at ABC Vehicle In...  \n",
      "\n",
      "[110 rows x 5 columns]\n"
     ]
    }
   ],
   "source": [
    "duplicates = data[data.duplicated()]\n",
    "print(duplicates)\n"
   ]
  },
  {
   "cell_type": "code",
   "execution_count": 7,
   "id": "3575acee-fa3b-4ed4-860a-e86fd6cff1d3",
   "metadata": {
    "dotnet_interactive": {
     "language": "csharp"
    },
    "polyglot_notebook": {
     "kernelName": "csharp"
    },
    "vscode": {
     "languageId": "polyglot-notebook"
    }
   },
   "outputs": [
    {
     "name": "stdout",
     "output_type": "stream",
     "text": [
      "Dataset size after removing duplicates: (7475, 5)\n"
     ]
    }
   ],
   "source": [
    "data = data.drop_duplicates()\n",
    "print(f\"Dataset size after removing duplicates: {data.shape}\")\n"
   ]
  },
  {
   "cell_type": "code",
   "execution_count": 8,
   "id": "55dd2d8e-3a85-4dba-b990-583089484a13",
   "metadata": {
    "dotnet_interactive": {
     "language": "csharp"
    },
    "polyglot_notebook": {
     "kernelName": "csharp"
    },
    "vscode": {
     "languageId": "polyglot-notebook"
    }
   },
   "outputs": [
    {
     "name": "stdout",
     "output_type": "stream",
     "text": [
      "Remaining duplicates: 0\n"
     ]
    }
   ],
   "source": [
    "print(f\"Remaining duplicates: {data.duplicated().sum()}\")\n"
   ]
  },
  {
   "cell_type": "markdown",
   "id": "756fe865-197e-4fd0-a920-fa7a60f0cdc0",
   "metadata": {},
   "source": [
    "#### checking null values"
   ]
  },
  {
   "cell_type": "code",
   "execution_count": 9,
   "id": "5bbcb2e4-80bc-4001-bd5c-5141b5d099d6",
   "metadata": {
    "dotnet_interactive": {
     "language": "csharp"
    },
    "polyglot_notebook": {
     "kernelName": "csharp"
    },
    "vscode": {
     "languageId": "polyglot-notebook"
    }
   },
   "outputs": [
    {
     "data": {
      "text/plain": [
       "category (text)       0\n",
       "category (binary)     0\n",
       "sentiment (text)      0\n",
       "sentiment (binary)    0\n",
       "feedback              0\n",
       "dtype: int64"
      ]
     },
     "execution_count": 9,
     "metadata": {},
     "output_type": "execute_result"
    }
   ],
   "source": [
    "data.isnull().sum()"
   ]
  },
  {
   "cell_type": "markdown",
   "id": "db4b6397-84f8-4b7a-827b-9b06692d9030",
   "metadata": {},
   "source": [
    "### Text Preprocessing"
   ]
  },
  {
   "cell_type": "markdown",
   "id": "7c0c551f-77ca-4796-8882-1fb2a0b7ef17",
   "metadata": {},
   "source": [
    "##### convert upercase to lowercase"
   ]
  },
  {
   "cell_type": "code",
   "execution_count": 10,
   "id": "b2f670d4-6cbe-48f0-8981-8775a613003b",
   "metadata": {
    "dotnet_interactive": {
     "language": "csharp"
    },
    "polyglot_notebook": {
     "kernelName": "csharp"
    },
    "vscode": {
     "languageId": "polyglot-notebook"
    }
   },
   "outputs": [],
   "source": [
    "import re\n",
    "import string"
   ]
  },
  {
   "cell_type": "code",
   "execution_count": 11,
   "id": "be6f43b5-8a7f-4788-a1d9-e74eb2faea3b",
   "metadata": {
    "dotnet_interactive": {
     "language": "csharp"
    },
    "polyglot_notebook": {
     "kernelName": "csharp"
    },
    "vscode": {
     "languageId": "polyglot-notebook"
    }
   },
   "outputs": [
    {
     "data": {
      "text/plain": [
       "0    I'm extremely disappointed with the lengthy an...\n",
       "1    # Inefficient communication and lack of transp...\n",
       "2    I recently had a terrible experience with the ...\n",
       "3    ##$ I am extremely dissatisfied with the vehic...\n",
       "4    # Poor communication throughout the entire pro...\n",
       "Name: feedback, dtype: object"
      ]
     },
     "execution_count": 11,
     "metadata": {},
     "output_type": "execute_result"
    }
   ],
   "source": [
    "data[\"feedback\"].head(5)"
   ]
  },
  {
   "cell_type": "code",
   "execution_count": 12,
   "id": "a938a650-0fc3-4ade-b7bf-798b61ca525b",
   "metadata": {
    "dotnet_interactive": {
     "language": "csharp"
    },
    "polyglot_notebook": {
     "kernelName": "csharp"
    },
    "vscode": {
     "languageId": "polyglot-notebook"
    }
   },
   "outputs": [],
   "source": [
    "data = data.copy()\n",
    "data[\"feedback\"] = data[\"feedback\"].apply(lambda x: \" \".join(x.lower() for x in x.split()))"
   ]
  },
  {
   "cell_type": "code",
   "execution_count": 13,
   "id": "c8547103-2498-4310-a53c-d9584a2eb2d7",
   "metadata": {
    "dotnet_interactive": {
     "language": "csharp"
    },
    "polyglot_notebook": {
     "kernelName": "csharp"
    },
    "vscode": {
     "languageId": "polyglot-notebook"
    }
   },
   "outputs": [
    {
     "data": {
      "text/plain": [
       "0    i'm extremely disappointed with the lengthy an...\n",
       "1    # inefficient communication and lack of transp...\n",
       "2    i recently had a terrible experience with the ...\n",
       "3    ##$ i am extremely dissatisfied with the vehic...\n",
       "4    # poor communication throughout the entire pro...\n",
       "Name: feedback, dtype: object"
      ]
     },
     "execution_count": 13,
     "metadata": {},
     "output_type": "execute_result"
    }
   ],
   "source": [
    "data[\"feedback\"].head()"
   ]
  },
  {
   "cell_type": "markdown",
   "id": "43e94327-6830-4aa5-ba55-7f074d52aacf",
   "metadata": {},
   "source": [
    "##### remove links"
   ]
  },
  {
   "cell_type": "code",
   "execution_count": 14,
   "id": "22d1dc62-4932-4172-b945-dd56c11aa349",
   "metadata": {
    "dotnet_interactive": {
     "language": "csharp"
    },
    "polyglot_notebook": {
     "kernelName": "csharp"
    },
    "vscode": {
     "languageId": "polyglot-notebook"
    }
   },
   "outputs": [],
   "source": [
    "data[\"feedback\"] = data[\"feedback\"].apply(lambda x: \" \".join(re.sub(r'^https?:\\/\\/.*[\\r\\n]*', '', x, flags=re.MULTILINE) for x in x.split()))"
   ]
  },
  {
   "cell_type": "code",
   "execution_count": 15,
   "id": "7673518a-dc35-43c3-9f41-07e58d40dcb6",
   "metadata": {
    "dotnet_interactive": {
     "language": "csharp"
    },
    "polyglot_notebook": {
     "kernelName": "csharp"
    },
    "vscode": {
     "languageId": "polyglot-notebook"
    }
   },
   "outputs": [
    {
     "data": {
      "text/plain": [
       "0       i'm extremely disappointed with the lengthy an...\n",
       "1       # inefficient communication and lack of transp...\n",
       "2       i recently had a terrible experience with the ...\n",
       "3       ##$ i am extremely dissatisfied with the vehic...\n",
       "4       # poor communication throughout the entire pro...\n",
       "                              ...                        \n",
       "7580    #### outstanding service from this vehicle ins...\n",
       "7581    # excellent customer service at a vehicle insu...\n",
       "7582    excellent service from the vehicle insurance c...\n",
       "7583    # good service, excellent communication from i...\n",
       "7584    ## outstanding customer service at triple aaa ...\n",
       "Name: feedback, Length: 7475, dtype: object"
      ]
     },
     "execution_count": 15,
     "metadata": {},
     "output_type": "execute_result"
    }
   ],
   "source": [
    "data[\"feedback\"]"
   ]
  },
  {
   "cell_type": "markdown",
   "id": "3cca9a88-191e-45f6-9f70-64e777607d1a",
   "metadata": {},
   "source": [
    "##### remove punctuations"
   ]
  },
  {
   "cell_type": "code",
   "execution_count": 16,
   "id": "844fd0cb-4e2e-487c-9725-9421d8e03d18",
   "metadata": {
    "dotnet_interactive": {
     "language": "csharp"
    },
    "polyglot_notebook": {
     "kernelName": "csharp"
    },
    "vscode": {
     "languageId": "polyglot-notebook"
    }
   },
   "outputs": [
    {
     "data": {
      "text/plain": [
       "'!\"#$%&\\'()*+,-./:;<=>?@[\\\\]^_`{|}~'"
      ]
     },
     "execution_count": 16,
     "metadata": {},
     "output_type": "execute_result"
    }
   ],
   "source": [
    "string.punctuation"
   ]
  },
  {
   "cell_type": "code",
   "execution_count": 17,
   "id": "c6a71bd2-e525-4bc0-b58b-3e67d6b668d3",
   "metadata": {
    "dotnet_interactive": {
     "language": "csharp"
    },
    "polyglot_notebook": {
     "kernelName": "csharp"
    },
    "vscode": {
     "languageId": "polyglot-notebook"
    }
   },
   "outputs": [],
   "source": [
    "def remove_punctuation(text):\n",
    "    for punctuation in string.punctuation:\n",
    "        text = text.replace(punctuation, '')\n",
    "    return text\n",
    "\n",
    "data[\"feedback\"] = data[\"feedback\"].apply(remove_punctuation)"
   ]
  },
  {
   "cell_type": "code",
   "execution_count": 18,
   "id": "820e0ebc-4c2c-4956-b545-26480548121c",
   "metadata": {
    "dotnet_interactive": {
     "language": "csharp"
    },
    "polyglot_notebook": {
     "kernelName": "csharp"
    },
    "vscode": {
     "languageId": "polyglot-notebook"
    }
   },
   "outputs": [
    {
     "data": {
      "text/plain": [
       "0    im extremely disappointed with the lengthy and...\n",
       "1     inefficient communication and lack of transpa...\n",
       "2    i recently had a terrible experience with the ...\n",
       "3     i am extremely dissatisfied with the vehicle ...\n",
       "4     poor communication throughout the entire proc...\n",
       "Name: feedback, dtype: object"
      ]
     },
     "execution_count": 18,
     "metadata": {},
     "output_type": "execute_result"
    }
   ],
   "source": [
    "data[\"feedback\"].head(5)"
   ]
  },
  {
   "cell_type": "markdown",
   "id": "8ac3a85a-ef6c-4b9e-a5cc-56fee8cf9feb",
   "metadata": {},
   "source": [
    "##### remove numbers"
   ]
  },
  {
   "cell_type": "code",
   "execution_count": 19,
   "id": "7a360190-3fbf-4a3a-a6e3-052709794239",
   "metadata": {
    "dotnet_interactive": {
     "language": "csharp"
    },
    "polyglot_notebook": {
     "kernelName": "csharp"
    },
    "vscode": {
     "languageId": "polyglot-notebook"
    }
   },
   "outputs": [
    {
     "data": {
      "text/plain": [
       "'please investigate my claim asap communication has been poor throughout this process ive been waiting for 3 weeks and im still unsure about the status of my claim its unacceptable to keep customers in the dark about their claims the insurance company needs to improve its communication and claim processing time i demand a prompt response regarding the status of my claim this has been a terrible experience and im not satisfied with the service ive received so far'"
      ]
     },
     "execution_count": 19,
     "metadata": {},
     "output_type": "execute_result"
    }
   ],
   "source": [
    "data[\"feedback\"].iloc[90]\n"
   ]
  },
  {
   "cell_type": "code",
   "execution_count": 20,
   "id": "dce95cac-d8b0-4923-bc54-b11b579f4294",
   "metadata": {
    "dotnet_interactive": {
     "language": "csharp"
    },
    "polyglot_notebook": {
     "kernelName": "csharp"
    },
    "vscode": {
     "languageId": "polyglot-notebook"
    }
   },
   "outputs": [],
   "source": [
    "data[\"feedback\"] = data[\"feedback\"].str.replace(r'\\d+', '', regex=True)"
   ]
  },
  {
   "cell_type": "code",
   "execution_count": 21,
   "id": "515684e2-1105-4905-8e28-cebe31f6a2e7",
   "metadata": {
    "dotnet_interactive": {
     "language": "csharp"
    },
    "polyglot_notebook": {
     "kernelName": "csharp"
    },
    "vscode": {
     "languageId": "polyglot-notebook"
    }
   },
   "outputs": [
    {
     "data": {
      "text/plain": [
       "'please investigate my claim asap communication has been poor throughout this process ive been waiting for  weeks and im still unsure about the status of my claim its unacceptable to keep customers in the dark about their claims the insurance company needs to improve its communication and claim processing time i demand a prompt response regarding the status of my claim this has been a terrible experience and im not satisfied with the service ive received so far'"
      ]
     },
     "execution_count": 21,
     "metadata": {},
     "output_type": "execute_result"
    }
   ],
   "source": [
    "data[\"feedback\"].iloc[90]"
   ]
  },
  {
   "cell_type": "markdown",
   "id": "ce119d00-c2ef-4660-8226-3cf5d244ab39",
   "metadata": {},
   "source": [
    "##### remove stopwords"
   ]
  },
  {
   "cell_type": "code",
   "execution_count": 22,
   "id": "ec2551a5-ef79-4e0c-a5db-4492d620b3a4",
   "metadata": {
    "dotnet_interactive": {
     "language": "csharp"
    },
    "polyglot_notebook": {
     "kernelName": "csharp"
    },
    "vscode": {
     "languageId": "polyglot-notebook"
    }
   },
   "outputs": [
    {
     "name": "stdout",
     "output_type": "stream",
     "text": [
      "Requirement already satisfied: nltk in f:\\projects\\github projects\\sentiment_analysis_research\\env\\lib\\site-packages (3.9.1)\n",
      "Requirement already satisfied: click in f:\\projects\\github projects\\sentiment_analysis_research\\env\\lib\\site-packages (from nltk) (8.1.7)\n",
      "Requirement already satisfied: joblib in f:\\projects\\github projects\\sentiment_analysis_research\\env\\lib\\site-packages (from nltk) (1.4.2)\n",
      "Requirement already satisfied: regex>=2021.8.3 in f:\\projects\\github projects\\sentiment_analysis_research\\env\\lib\\site-packages (from nltk) (2024.11.6)\n",
      "Requirement already satisfied: tqdm in f:\\projects\\github projects\\sentiment_analysis_research\\env\\lib\\site-packages (from nltk) (4.67.1)\n",
      "Requirement already satisfied: colorama in f:\\projects\\github projects\\sentiment_analysis_research\\env\\lib\\site-packages (from click->nltk) (0.4.6)\n"
     ]
    },
    {
     "name": "stderr",
     "output_type": "stream",
     "text": [
      "\n",
      "[notice] A new release of pip is available: 24.3.1 -> 25.0.1\n",
      "[notice] To update, run: F:\\Projects\\github projects\\sentiment_analysis_research\\env\\Scripts\\python.exe -m pip install --upgrade pip\n"
     ]
    }
   ],
   "source": [
    "!pip install nltk"
   ]
  },
  {
   "cell_type": "code",
   "execution_count": 23,
   "id": "535d265c-78ab-4fc3-a149-64dda8fb78cc",
   "metadata": {
    "dotnet_interactive": {
     "language": "csharp"
    },
    "polyglot_notebook": {
     "kernelName": "csharp"
    },
    "vscode": {
     "languageId": "polyglot-notebook"
    }
   },
   "outputs": [],
   "source": [
    "import nltk"
   ]
  },
  {
   "cell_type": "markdown",
   "id": "29e24e1d-4abe-4e12-a936-e033d126f72d",
   "metadata": {},
   "source": [
    "##### downlad stopwords for english language"
   ]
  },
  {
   "cell_type": "code",
   "execution_count": 24,
   "id": "69ca8004-c402-4a17-af65-e1cac47b1cf9",
   "metadata": {
    "dotnet_interactive": {
     "language": "csharp"
    },
    "polyglot_notebook": {
     "kernelName": "csharp"
    },
    "vscode": {
     "languageId": "polyglot-notebook"
    }
   },
   "outputs": [
    {
     "name": "stderr",
     "output_type": "stream",
     "text": [
      "[nltk_data] Downloading package stopwords to ../static/model...\n",
      "[nltk_data]   Package stopwords is already up-to-date!\n"
     ]
    },
    {
     "data": {
      "text/plain": [
       "True"
      ]
     },
     "execution_count": 24,
     "metadata": {},
     "output_type": "execute_result"
    }
   ],
   "source": [
    "nltk.download('stopwords',download_dir='../static/model')"
   ]
  },
  {
   "cell_type": "code",
   "execution_count": 25,
   "id": "fdf2700f-1053-45c3-a069-053306168c0a",
   "metadata": {
    "dotnet_interactive": {
     "language": "csharp"
    },
    "polyglot_notebook": {
     "kernelName": "csharp"
    },
    "vscode": {
     "languageId": "polyglot-notebook"
    }
   },
   "outputs": [],
   "source": [
    "with open('../static/model/corpora/stopwords/english', 'r') as file:\n",
    "    sw=file.read().splitlines()"
   ]
  },
  {
   "cell_type": "code",
   "execution_count": 26,
   "id": "7356cd86-838d-4af7-99a8-36d01078f3f1",
   "metadata": {
    "dotnet_interactive": {
     "language": "csharp"
    },
    "polyglot_notebook": {
     "kernelName": "csharp"
    },
    "vscode": {
     "languageId": "polyglot-notebook"
    }
   },
   "outputs": [
    {
     "data": {
      "text/plain": [
       "['a',\n",
       " 'about',\n",
       " 'above',\n",
       " 'after',\n",
       " 'again',\n",
       " 'against',\n",
       " 'ain',\n",
       " 'all',\n",
       " 'am',\n",
       " 'an',\n",
       " 'and',\n",
       " 'any',\n",
       " 'are',\n",
       " 'aren',\n",
       " \"aren't\",\n",
       " 'as',\n",
       " 'at',\n",
       " 'be',\n",
       " 'because',\n",
       " 'been',\n",
       " 'before',\n",
       " 'being',\n",
       " 'below',\n",
       " 'between',\n",
       " 'both',\n",
       " 'but',\n",
       " 'by',\n",
       " 'can',\n",
       " 'couldn',\n",
       " \"couldn't\",\n",
       " 'd',\n",
       " 'did',\n",
       " 'didn',\n",
       " \"didn't\",\n",
       " 'do',\n",
       " 'does',\n",
       " 'doesn',\n",
       " \"doesn't\",\n",
       " 'doing',\n",
       " 'don',\n",
       " \"don't\",\n",
       " 'down',\n",
       " 'during',\n",
       " 'each',\n",
       " 'few',\n",
       " 'for',\n",
       " 'from',\n",
       " 'further',\n",
       " 'had',\n",
       " 'hadn',\n",
       " \"hadn't\",\n",
       " 'has',\n",
       " 'hasn',\n",
       " \"hasn't\",\n",
       " 'have',\n",
       " 'haven',\n",
       " \"haven't\",\n",
       " 'having',\n",
       " 'he',\n",
       " \"he'd\",\n",
       " \"he'll\",\n",
       " 'her',\n",
       " 'here',\n",
       " 'hers',\n",
       " 'herself',\n",
       " \"he's\",\n",
       " 'him',\n",
       " 'himself',\n",
       " 'his',\n",
       " 'how',\n",
       " 'i',\n",
       " \"i'd\",\n",
       " 'if',\n",
       " \"i'll\",\n",
       " \"i'm\",\n",
       " 'in',\n",
       " 'into',\n",
       " 'is',\n",
       " 'isn',\n",
       " \"isn't\",\n",
       " 'it',\n",
       " \"it'd\",\n",
       " \"it'll\",\n",
       " \"it's\",\n",
       " 'its',\n",
       " 'itself',\n",
       " \"i've\",\n",
       " 'just',\n",
       " 'll',\n",
       " 'm',\n",
       " 'ma',\n",
       " 'me',\n",
       " 'mightn',\n",
       " \"mightn't\",\n",
       " 'more',\n",
       " 'most',\n",
       " 'mustn',\n",
       " \"mustn't\",\n",
       " 'my',\n",
       " 'myself',\n",
       " 'needn',\n",
       " \"needn't\",\n",
       " 'no',\n",
       " 'nor',\n",
       " 'not',\n",
       " 'now',\n",
       " 'o',\n",
       " 'of',\n",
       " 'off',\n",
       " 'on',\n",
       " 'once',\n",
       " 'only',\n",
       " 'or',\n",
       " 'other',\n",
       " 'our',\n",
       " 'ours',\n",
       " 'ourselves',\n",
       " 'out',\n",
       " 'over',\n",
       " 'own',\n",
       " 're',\n",
       " 's',\n",
       " 'same',\n",
       " 'shan',\n",
       " \"shan't\",\n",
       " 'she',\n",
       " \"she'd\",\n",
       " \"she'll\",\n",
       " \"she's\",\n",
       " 'should',\n",
       " 'shouldn',\n",
       " \"shouldn't\",\n",
       " \"should've\",\n",
       " 'so',\n",
       " 'some',\n",
       " 'such',\n",
       " 't',\n",
       " 'than',\n",
       " 'that',\n",
       " \"that'll\",\n",
       " 'the',\n",
       " 'their',\n",
       " 'theirs',\n",
       " 'them',\n",
       " 'themselves',\n",
       " 'then',\n",
       " 'there',\n",
       " 'these',\n",
       " 'they',\n",
       " \"they'd\",\n",
       " \"they'll\",\n",
       " \"they're\",\n",
       " \"they've\",\n",
       " 'this',\n",
       " 'those',\n",
       " 'through',\n",
       " 'to',\n",
       " 'too',\n",
       " 'under',\n",
       " 'until',\n",
       " 'up',\n",
       " 've',\n",
       " 'very',\n",
       " 'was',\n",
       " 'wasn',\n",
       " \"wasn't\",\n",
       " 'we',\n",
       " \"we'd\",\n",
       " \"we'll\",\n",
       " \"we're\",\n",
       " 'were',\n",
       " 'weren',\n",
       " \"weren't\",\n",
       " \"we've\",\n",
       " 'what',\n",
       " 'when',\n",
       " 'where',\n",
       " 'which',\n",
       " 'while',\n",
       " 'who',\n",
       " 'whom',\n",
       " 'why',\n",
       " 'will',\n",
       " 'with',\n",
       " 'won',\n",
       " \"won't\",\n",
       " 'wouldn',\n",
       " \"wouldn't\",\n",
       " 'y',\n",
       " 'you',\n",
       " \"you'd\",\n",
       " \"you'll\",\n",
       " 'your',\n",
       " \"you're\",\n",
       " 'yours',\n",
       " 'yourself',\n",
       " 'yourselves',\n",
       " \"you've\"]"
      ]
     },
     "execution_count": 26,
     "metadata": {},
     "output_type": "execute_result"
    }
   ],
   "source": [
    "sw"
   ]
  },
  {
   "cell_type": "code",
   "execution_count": 27,
   "id": "3b821cfa-f36f-406b-979a-3437a96a9379",
   "metadata": {
    "dotnet_interactive": {
     "language": "csharp"
    },
    "polyglot_notebook": {
     "kernelName": "csharp"
    },
    "vscode": {
     "languageId": "polyglot-notebook"
    }
   },
   "outputs": [],
   "source": [
    "data[\"feedback\"] = data[\"feedback\"].apply(lambda x: \" \".join(x for x in x.split() if x not in sw))"
   ]
  },
  {
   "cell_type": "code",
   "execution_count": 28,
   "id": "2d4e1618-4cef-4810-9c27-8890de37c410",
   "metadata": {
    "dotnet_interactive": {
     "language": "csharp"
    },
    "polyglot_notebook": {
     "kernelName": "csharp"
    },
    "vscode": {
     "languageId": "polyglot-notebook"
    }
   },
   "outputs": [
    {
     "data": {
      "text/plain": [
       "0    im extremely disappointed lengthy unsatisfacto...\n",
       "1    inefficient communication lack transparency th...\n",
       "2    recently terrible experience vehicle insurance...\n",
       "3    extremely dissatisfied vehicle insurance claim...\n",
       "4    poor communication throughout entire process u...\n",
       "Name: feedback, dtype: object"
      ]
     },
     "execution_count": 28,
     "metadata": {},
     "output_type": "execute_result"
    }
   ],
   "source": [
    "data[\"feedback\"].head(5)"
   ]
  },
  {
   "cell_type": "markdown",
   "id": "902de095-16b9-4063-a509-66a919644d4c",
   "metadata": {},
   "source": [
    "##### stemming"
   ]
  },
  {
   "cell_type": "code",
   "execution_count": 29,
   "id": "6dc96af8-c5dd-4b09-a24d-146aabb2a82b",
   "metadata": {
    "dotnet_interactive": {
     "language": "csharp"
    },
    "polyglot_notebook": {
     "kernelName": "csharp"
    },
    "vscode": {
     "languageId": "polyglot-notebook"
    }
   },
   "outputs": [],
   "source": [
    "from nltk.stem import PorterStemmer\n",
    "ps = PorterStemmer()"
   ]
  },
  {
   "cell_type": "code",
   "execution_count": 30,
   "id": "95d01c0b-44e9-4d2e-88b4-695ce572e438",
   "metadata": {
    "dotnet_interactive": {
     "language": "csharp"
    },
    "polyglot_notebook": {
     "kernelName": "csharp"
    },
    "vscode": {
     "languageId": "polyglot-notebook"
    }
   },
   "outputs": [],
   "source": [
    "data[\"feedback\"] = data[\"feedback\"].apply(lambda x: \" \".join([ps.stem(x) for x in x.split()]))"
   ]
  },
  {
   "cell_type": "code",
   "execution_count": 31,
   "id": "04f4ccc7-c52c-4683-ba6e-d5169db11120",
   "metadata": {
    "dotnet_interactive": {
     "language": "csharp"
    },
    "polyglot_notebook": {
     "kernelName": "csharp"
    },
    "vscode": {
     "languageId": "polyglot-notebook"
    }
   },
   "outputs": [
    {
     "data": {
      "text/html": [
       "<div>\n",
       "<style scoped>\n",
       "    .dataframe tbody tr th:only-of-type {\n",
       "        vertical-align: middle;\n",
       "    }\n",
       "\n",
       "    .dataframe tbody tr th {\n",
       "        vertical-align: top;\n",
       "    }\n",
       "\n",
       "    .dataframe thead th {\n",
       "        text-align: right;\n",
       "    }\n",
       "</style>\n",
       "<table border=\"1\" class=\"dataframe\">\n",
       "  <thead>\n",
       "    <tr style=\"text-align: right;\">\n",
       "      <th></th>\n",
       "      <th>category (text)</th>\n",
       "      <th>category (binary)</th>\n",
       "      <th>sentiment (text)</th>\n",
       "      <th>sentiment (binary)</th>\n",
       "      <th>feedback</th>\n",
       "    </tr>\n",
       "  </thead>\n",
       "  <tbody>\n",
       "    <tr>\n",
       "      <th>0</th>\n",
       "      <td>claim</td>\n",
       "      <td>0</td>\n",
       "      <td>negative</td>\n",
       "      <td>1</td>\n",
       "      <td>im extrem disappoint lengthi unsatisfactori ve...</td>\n",
       "    </tr>\n",
       "    <tr>\n",
       "      <th>1</th>\n",
       "      <td>claim</td>\n",
       "      <td>0</td>\n",
       "      <td>negative</td>\n",
       "      <td>1</td>\n",
       "      <td>ineffici commun lack transpar throughout claim...</td>\n",
       "    </tr>\n",
       "    <tr>\n",
       "      <th>2</th>\n",
       "      <td>claim</td>\n",
       "      <td>0</td>\n",
       "      <td>negative</td>\n",
       "      <td>1</td>\n",
       "      <td>recent terribl experi vehicl insur claim proce...</td>\n",
       "    </tr>\n",
       "    <tr>\n",
       "      <th>3</th>\n",
       "      <td>claim</td>\n",
       "      <td>0</td>\n",
       "      <td>negative</td>\n",
       "      <td>1</td>\n",
       "      <td>extrem dissatisfi vehicl insur claim process t...</td>\n",
       "    </tr>\n",
       "    <tr>\n",
       "      <th>4</th>\n",
       "      <td>claim</td>\n",
       "      <td>0</td>\n",
       "      <td>negative</td>\n",
       "      <td>1</td>\n",
       "      <td>poor commun throughout entir process unwilling...</td>\n",
       "    </tr>\n",
       "    <tr>\n",
       "      <th>...</th>\n",
       "      <td>...</td>\n",
       "      <td>...</td>\n",
       "      <td>...</td>\n",
       "      <td>...</td>\n",
       "      <td>...</td>\n",
       "    </tr>\n",
       "    <tr>\n",
       "      <th>7580</th>\n",
       "      <td>service</td>\n",
       "      <td>1</td>\n",
       "      <td>positive</td>\n",
       "      <td>0</td>\n",
       "      <td>outstand servic vehicl insur compani team extr...</td>\n",
       "    </tr>\n",
       "    <tr>\n",
       "      <th>7581</th>\n",
       "      <td>service</td>\n",
       "      <td>1</td>\n",
       "      <td>positive</td>\n",
       "      <td>0</td>\n",
       "      <td>excel custom servic vehicl insur compani repre...</td>\n",
       "    </tr>\n",
       "    <tr>\n",
       "      <th>7582</th>\n",
       "      <td>service</td>\n",
       "      <td>1</td>\n",
       "      <td>positive</td>\n",
       "      <td>0</td>\n",
       "      <td>excel servic vehicl insur compani repres highl...</td>\n",
       "    </tr>\n",
       "    <tr>\n",
       "      <th>7583</th>\n",
       "      <td>service</td>\n",
       "      <td>1</td>\n",
       "      <td>positive</td>\n",
       "      <td>0</td>\n",
       "      <td>good servic excel commun insur compani repres ...</td>\n",
       "    </tr>\n",
       "    <tr>\n",
       "      <th>7584</th>\n",
       "      <td>service</td>\n",
       "      <td>1</td>\n",
       "      <td>positive</td>\n",
       "      <td>0</td>\n",
       "      <td>outstand custom servic tripl aaa insur unparal...</td>\n",
       "    </tr>\n",
       "  </tbody>\n",
       "</table>\n",
       "<p>7475 rows × 5 columns</p>\n",
       "</div>"
      ],
      "text/plain": [
       "     category (text)  category (binary) sentiment (text)  sentiment (binary)  \\\n",
       "0              claim                  0         negative                   1   \n",
       "1              claim                  0         negative                   1   \n",
       "2              claim                  0         negative                   1   \n",
       "3              claim                  0         negative                   1   \n",
       "4              claim                  0         negative                   1   \n",
       "...              ...                ...              ...                 ...   \n",
       "7580         service                  1         positive                   0   \n",
       "7581         service                  1         positive                   0   \n",
       "7582         service                  1         positive                   0   \n",
       "7583         service                  1         positive                   0   \n",
       "7584         service                  1         positive                   0   \n",
       "\n",
       "                                               feedback  \n",
       "0     im extrem disappoint lengthi unsatisfactori ve...  \n",
       "1     ineffici commun lack transpar throughout claim...  \n",
       "2     recent terribl experi vehicl insur claim proce...  \n",
       "3     extrem dissatisfi vehicl insur claim process t...  \n",
       "4     poor commun throughout entir process unwilling...  \n",
       "...                                                 ...  \n",
       "7580  outstand servic vehicl insur compani team extr...  \n",
       "7581  excel custom servic vehicl insur compani repre...  \n",
       "7582  excel servic vehicl insur compani repres highl...  \n",
       "7583  good servic excel commun insur compani repres ...  \n",
       "7584  outstand custom servic tripl aaa insur unparal...  \n",
       "\n",
       "[7475 rows x 5 columns]"
      ]
     },
     "execution_count": 31,
     "metadata": {},
     "output_type": "execute_result"
    }
   ],
   "source": [
    "data"
   ]
  },
  {
   "cell_type": "markdown",
   "id": "6b335027-58a6-4b94-8bf8-dc99acebc815",
   "metadata": {},
   "source": [
    "## Vectorization"
   ]
  },
  {
   "cell_type": "markdown",
   "id": "e145761c-6af8-4fe6-bb4a-c36d5c534598",
   "metadata": {},
   "source": [
    "##### Bulidng Vocabulary"
   ]
  },
  {
   "cell_type": "code",
   "execution_count": 204,
   "id": "979475ef-9f7d-4bd4-817c-3261847445fd",
   "metadata": {
    "dotnet_interactive": {
     "language": "csharp"
    },
    "polyglot_notebook": {
     "kernelName": "csharp"
    },
    "vscode": {
     "languageId": "polyglot-notebook"
    }
   },
   "outputs": [],
   "source": [
    "from collections import Counter\n",
    "vocab=Counter()"
   ]
  },
  {
   "cell_type": "code",
   "execution_count": 205,
   "id": "00a841c5-7673-4b01-bc4b-07f1eaddd990",
   "metadata": {
    "dotnet_interactive": {
     "language": "csharp"
    },
    "polyglot_notebook": {
     "kernelName": "csharp"
    },
    "vscode": {
     "languageId": "polyglot-notebook"
    }
   },
   "outputs": [
    {
     "data": {
      "text/plain": [
       "Counter()"
      ]
     },
     "execution_count": 205,
     "metadata": {},
     "output_type": "execute_result"
    }
   ],
   "source": [
    "vocab"
   ]
  },
  {
   "cell_type": "code",
   "execution_count": 206,
   "id": "d48ca96c-d5fa-4613-99f8-2fc866de59ed",
   "metadata": {
    "dotnet_interactive": {
     "language": "csharp"
    },
    "polyglot_notebook": {
     "kernelName": "csharp"
    },
    "vscode": {
     "languageId": "polyglot-notebook"
    }
   },
   "outputs": [],
   "source": [
    "for sentence in data[\"feedback\"]:\n",
    "    vocab.update(sentence.split())"
   ]
  },
  {
   "cell_type": "code",
   "execution_count": 207,
   "id": "6aac19a6-f1f7-477a-bd28-9f666ae046d5",
   "metadata": {
    "dotnet_interactive": {
     "language": "csharp"
    },
    "polyglot_notebook": {
     "kernelName": "csharp"
    },
    "vscode": {
     "languageId": "polyglot-notebook"
    }
   },
   "outputs": [
    {
     "data": {
      "text/plain": [
       "3324"
      ]
     },
     "execution_count": 207,
     "metadata": {},
     "output_type": "execute_result"
    }
   ],
   "source": [
    "len(vocab)"
   ]
  },
  {
   "cell_type": "code",
   "execution_count": 208,
   "id": "7e2ed398-749d-4fde-99ab-c9c66f2cc937",
   "metadata": {
    "dotnet_interactive": {
     "language": "csharp"
    },
    "polyglot_notebook": {
     "kernelName": "csharp"
    },
    "vscode": {
     "languageId": "polyglot-notebook"
    }
   },
   "outputs": [
    {
     "data": {
      "text/plain": [
       "(7475, 5)"
      ]
     },
     "execution_count": 208,
     "metadata": {},
     "output_type": "execute_result"
    }
   ],
   "source": [
    "data.shape"
   ]
  },
  {
   "cell_type": "code",
   "execution_count": 209,
   "id": "8c1a6029-cbd2-4fee-86d7-e969dd02f411",
   "metadata": {
    "dotnet_interactive": {
     "language": "csharp"
    },
    "polyglot_notebook": {
     "kernelName": "csharp"
    },
    "vscode": {
     "languageId": "polyglot-notebook"
    }
   },
   "outputs": [
    {
     "data": {
      "text/plain": [
       "Counter({'insur': 10729,\n",
       "         'polici': 7885,\n",
       "         'compani': 6140,\n",
       "         'custom': 6014,\n",
       "         'vehicl': 5923,\n",
       "         'servic': 5898,\n",
       "         'claim': 5817,\n",
       "         'process': 5001,\n",
       "         'experi': 3515,\n",
       "         'term': 3476,\n",
       "         'provid': 2989,\n",
       "         'im': 2730,\n",
       "         'commun': 2485,\n",
       "         'make': 2422,\n",
       "         'coverag': 2283,\n",
       "         'recommend': 2256,\n",
       "         'would': 2161,\n",
       "         'respons': 2089,\n",
       "         'team': 2086,\n",
       "         'transpar': 2065,\n",
       "         'time': 2065,\n",
       "         'clear': 2023,\n",
       "         'issu': 1941,\n",
       "         'frustrat': 1934,\n",
       "         'understand': 1873,\n",
       "         'lack': 1869,\n",
       "         'resolv': 1766,\n",
       "         'expect': 1615,\n",
       "         'help': 1602,\n",
       "         'anyon': 1597,\n",
       "         'repres': 1547,\n",
       "         'extrem': 1527,\n",
       "         'receiv': 1522,\n",
       "         'profession': 1505,\n",
       "         'effici': 1428,\n",
       "         'need': 1393,\n",
       "         'fair': 1392,\n",
       "         'highli': 1382,\n",
       "         'overal': 1381,\n",
       "         'poor': 1378,\n",
       "         'inform': 1321,\n",
       "         'ive': 1293,\n",
       "         'get': 1264,\n",
       "         'impress': 1166,\n",
       "         'ensur': 1150,\n",
       "         'caus': 1134,\n",
       "         'excel': 1096,\n",
       "         'take': 1060,\n",
       "         'updat': 1057,\n",
       "         'resolut': 1030,\n",
       "         'great': 1027,\n",
       "         'delay': 927,\n",
       "         'still': 913,\n",
       "         'entir': 908,\n",
       "         'feel': 904,\n",
       "         'confus': 902,\n",
       "         'disappoint': 891,\n",
       "         'appreci': 866,\n",
       "         'made': 857,\n",
       "         'wait': 857,\n",
       "         'decis': 857,\n",
       "         'unclear': 853,\n",
       "         'support': 849,\n",
       "         'unrespons': 842,\n",
       "         'review': 840,\n",
       "         'seamless': 837,\n",
       "         'except': 792,\n",
       "         'hope': 769,\n",
       "         'exceed': 761,\n",
       "         'quick': 752,\n",
       "         'standard': 752,\n",
       "         'like': 741,\n",
       "         'concern': 740,\n",
       "         'easi': 738,\n",
       "         'left': 725,\n",
       "         'knowledg': 722,\n",
       "         'howev': 718,\n",
       "         'look': 712,\n",
       "         'improv': 690,\n",
       "         'policyhold': 677,\n",
       "         'reliabl': 675,\n",
       "         'unaccept': 666,\n",
       "         'call': 664,\n",
       "         'premium': 658,\n",
       "         'seem': 651,\n",
       "         'question': 651,\n",
       "         'also': 643,\n",
       "         'explan': 641,\n",
       "         'throughout': 639,\n",
       "         'addit': 635,\n",
       "         'satisfi': 635,\n",
       "         'hasslefre': 632,\n",
       "         'complet': 623,\n",
       "         'stress': 622,\n",
       "         'truli': 619,\n",
       "         'unhelp': 611,\n",
       "         'care': 610,\n",
       "         'handl': 590,\n",
       "         'xyz': 590,\n",
       "         'multipl': 578,\n",
       "         'detail': 572,\n",
       "         'satisfact': 565,\n",
       "         'friendli': 556,\n",
       "         'address': 550,\n",
       "         'final': 544,\n",
       "         'difficult': 526,\n",
       "         'recent': 526,\n",
       "         'protect': 524,\n",
       "         'outcom': 517,\n",
       "         'statu': 512,\n",
       "         'comprehens': 511,\n",
       "         'seek': 508,\n",
       "         'smooth': 505,\n",
       "         'condit': 504,\n",
       "         'week': 503,\n",
       "         'could': 503,\n",
       "         'level': 501,\n",
       "         'better': 497,\n",
       "         'includ': 494,\n",
       "         'took': 492,\n",
       "         'result': 490,\n",
       "         'everi': 488,\n",
       "         'courteou': 485,\n",
       "         'financi': 479,\n",
       "         'cover': 475,\n",
       "         'signific': 474,\n",
       "         'offer': 469,\n",
       "         'clearli': 466,\n",
       "         'damag': 460,\n",
       "         'tri': 459,\n",
       "         'assist': 458,\n",
       "         'essenti': 458,\n",
       "         'step': 457,\n",
       "         'concis': 450,\n",
       "         'document': 449,\n",
       "         'accid': 447,\n",
       "         'trust': 442,\n",
       "         'option': 434,\n",
       "         'ongo': 433,\n",
       "         'answer': 431,\n",
       "         'commit': 429,\n",
       "         'deduct': 428,\n",
       "         'limit': 428,\n",
       "         'hour': 423,\n",
       "         'thoroughli': 423,\n",
       "         'avoid': 421,\n",
       "         'staff': 421,\n",
       "         'unfavor': 421,\n",
       "         'prompt': 404,\n",
       "         'way': 403,\n",
       "         'valu': 399,\n",
       "         'may': 396,\n",
       "         'clariti': 394,\n",
       "         'lead': 391,\n",
       "         'soon': 383,\n",
       "         'necessari': 383,\n",
       "         'languag': 382,\n",
       "         'topnotch': 377,\n",
       "         'even': 375,\n",
       "         'spoke': 373,\n",
       "         'queri': 373,\n",
       "         'other': 372,\n",
       "         'quickli': 363,\n",
       "         'manner': 360,\n",
       "         'benefit': 358,\n",
       "         'respond': 357,\n",
       "         'abl': 353,\n",
       "         'futur': 350,\n",
       "         'promptli': 348,\n",
       "         'work': 346,\n",
       "         'car': 344,\n",
       "         'beyond': 344,\n",
       "         'alway': 339,\n",
       "         'back': 337,\n",
       "         'file': 332,\n",
       "         'good': 332,\n",
       "         'one': 326,\n",
       "         'confid': 325,\n",
       "         'appal': 324,\n",
       "         'new': 318,\n",
       "         'dissatisfi': 317,\n",
       "         'priorit': 317,\n",
       "         'initi': 314,\n",
       "         'situat': 314,\n",
       "         'deal': 312,\n",
       "         'adjust': 311,\n",
       "         'furthermor': 309,\n",
       "         'unsatisfactori': 305,\n",
       "         'satisfactori': 304,\n",
       "         'busi': 304,\n",
       "         'settlement': 301,\n",
       "         'outstand': 301,\n",
       "         'start': 300,\n",
       "         'case': 299,\n",
       "         'outlin': 298,\n",
       "         'use': 296,\n",
       "         'empathi': 296,\n",
       "         'unnecessari': 290,\n",
       "         'navig': 290,\n",
       "         'requir': 289,\n",
       "         'benefici': 287,\n",
       "         'adequ': 286,\n",
       "         'went': 279,\n",
       "         'long': 277,\n",
       "         'mind': 276,\n",
       "         'cost': 272,\n",
       "         'kept': 269,\n",
       "         'incred': 268,\n",
       "         'purchas': 266,\n",
       "         'complex': 265,\n",
       "         'due': 263,\n",
       "         'hold': 263,\n",
       "         'see': 261,\n",
       "         'rate': 261,\n",
       "         'agent': 259,\n",
       "         'didnt': 257,\n",
       "         'straightforward': 256,\n",
       "         'peac': 254,\n",
       "         'demand': 253,\n",
       "         'reason': 253,\n",
       "         'never': 252,\n",
       "         'posit': 252,\n",
       "         'attent': 251,\n",
       "         'dedic': 251,\n",
       "         'effort': 249,\n",
       "         'without': 248,\n",
       "         'job': 248,\n",
       "         'road': 247,\n",
       "         'grate': 244,\n",
       "         'fail': 243,\n",
       "         'despit': 241,\n",
       "         'everyth': 241,\n",
       "         'met': 239,\n",
       "         'best': 239,\n",
       "         'exclus': 239,\n",
       "         'contact': 237,\n",
       "         'sever': 237,\n",
       "         'keep': 237,\n",
       "         'consid': 236,\n",
       "         'interact': 236,\n",
       "         'regard': 235,\n",
       "         'chang': 234,\n",
       "         'driver': 234,\n",
       "         'phone': 232,\n",
       "         'crucial': 232,\n",
       "         'differ': 230,\n",
       "         'know': 230,\n",
       "         'follow': 229,\n",
       "         'explain': 226,\n",
       "         'felt': 215,\n",
       "         'payment': 213,\n",
       "         'pleas': 212,\n",
       "         'what': 212,\n",
       "         'go': 212,\n",
       "         'nightmar': 210,\n",
       "         'leav': 210,\n",
       "         'potenti': 210,\n",
       "         'anxieti': 207,\n",
       "         'say': 207,\n",
       "         'bit': 207,\n",
       "         'loss': 205,\n",
       "         'email': 205,\n",
       "         'right': 205,\n",
       "         'put': 203,\n",
       "         'approach': 200,\n",
       "         'longer': 200,\n",
       "         'fine': 199,\n",
       "         'theyr': 198,\n",
       "         'day': 197,\n",
       "         'someon': 197,\n",
       "         'definit': 197,\n",
       "         'continu': 196,\n",
       "         'choos': 196,\n",
       "         'feedback': 195,\n",
       "         'repair': 194,\n",
       "         'far': 194,\n",
       "         'matter': 191,\n",
       "         'compens': 190,\n",
       "         'possibl': 190,\n",
       "         'trustworthi': 190,\n",
       "         'inconveni': 188,\n",
       "         'away': 188,\n",
       "         'your': 185,\n",
       "         'abc': 184,\n",
       "         'event': 183,\n",
       "         'dont': 182,\n",
       "         'find': 180,\n",
       "         'regular': 179,\n",
       "         'disast': 179,\n",
       "         'solut': 179,\n",
       "         'stressfre': 179,\n",
       "         'blown': 179,\n",
       "         'immedi': 178,\n",
       "         'person': 178,\n",
       "         'undecid': 176,\n",
       "         'amount': 175,\n",
       "         'price': 175,\n",
       "         'effect': 174,\n",
       "         'allow': 174,\n",
       "         'avail': 174,\n",
       "         'experienc': 172,\n",
       "         'within': 171,\n",
       "         'elsewher': 170,\n",
       "         'famili': 170,\n",
       "         'lot': 170,\n",
       "         'patient': 170,\n",
       "         'aspect': 170,\n",
       "         'choic': 169,\n",
       "         'report': 169,\n",
       "         'inquiri': 168,\n",
       "         'reput': 167,\n",
       "         'courtesi': 167,\n",
       "         'print': 167,\n",
       "         'secur': 166,\n",
       "         'urg': 165,\n",
       "         'averag': 165,\n",
       "         'month': 164,\n",
       "         'give': 164,\n",
       "         'comprehend': 164,\n",
       "         'year': 162,\n",
       "         'quit': 162,\n",
       "         'easier': 161,\n",
       "         'neither': 160,\n",
       "         'serious': 159,\n",
       "         'forward': 159,\n",
       "         'sure': 159,\n",
       "         'revis': 159,\n",
       "         'reach': 158,\n",
       "         'attempt': 156,\n",
       "         'read': 155,\n",
       "         'wellstructur': 155,\n",
       "         'current': 153,\n",
       "         'especi': 153,\n",
       "         'unexpect': 153,\n",
       "         'led': 152,\n",
       "         'yet': 152,\n",
       "         'submit': 151,\n",
       "         'must': 151,\n",
       "         'whole': 150,\n",
       "         'meet': 148,\n",
       "         'decent': 148,\n",
       "         'evid': 147,\n",
       "         'thrill': 147,\n",
       "         'thank': 147,\n",
       "         'section': 146,\n",
       "         'competit': 144,\n",
       "         'terribl': 143,\n",
       "         'wast': 143,\n",
       "         'investig': 143,\n",
       "         'individu': 143,\n",
       "         'action': 142,\n",
       "         'progress': 140,\n",
       "         'ambigu': 139,\n",
       "         'drive': 138,\n",
       "         'high': 137,\n",
       "         'id': 137,\n",
       "         'fee': 137,\n",
       "         'unprofession': 136,\n",
       "         'abil': 135,\n",
       "         'neg': 133,\n",
       "         'build': 133,\n",
       "         'uncertainti': 133,\n",
       "         'renew': 133,\n",
       "         'higher': 132,\n",
       "         'lengthi': 131,\n",
       "         'involv': 131,\n",
       "         'neutral': 130,\n",
       "         'liabil': 130,\n",
       "         'request': 129,\n",
       "         'hard': 129,\n",
       "         'particularli': 129,\n",
       "         'surpris': 129,\n",
       "         'ultim': 127,\n",
       "         'ad': 127,\n",
       "         'promis': 127,\n",
       "         'onlin': 127,\n",
       "         'uninterest': 126,\n",
       "         'slow': 125,\n",
       "         'thorough': 125,\n",
       "         'prevent': 124,\n",
       "         'simpl': 124,\n",
       "         'sinc': 122,\n",
       "         'flexibl': 122,\n",
       "         'userfriendli': 121,\n",
       "         'havent': 120,\n",
       "         'switch': 120,\n",
       "         'want': 120,\n",
       "         'design': 120,\n",
       "         'breez': 120,\n",
       "         'burden': 119,\n",
       "         'manag': 119,\n",
       "         'afford': 119,\n",
       "         'major': 118,\n",
       "         'bad': 117,\n",
       "         'exampl': 117,\n",
       "         'pay': 117,\n",
       "         'commend': 117,\n",
       "         'problem': 116,\n",
       "         'ill': 116,\n",
       "         'noth': 115,\n",
       "         'us': 114,\n",
       "         'found': 114,\n",
       "         'tast': 113,\n",
       "         'life': 113,\n",
       "         'ask': 113,\n",
       "         'creat': 112,\n",
       "         'disput': 111,\n",
       "         'unfair': 111,\n",
       "         'key': 111,\n",
       "         'websit': 111,\n",
       "         'parti': 110,\n",
       "         'taken': 110,\n",
       "         'industri': 110,\n",
       "         'sens': 109,\n",
       "         'pend': 109,\n",
       "         'polit': 108,\n",
       "         'display': 107,\n",
       "         'mouth': 107,\n",
       "         'increas': 107,\n",
       "         'variou': 107,\n",
       "         'misunderstand': 107,\n",
       "         'complaint': 106,\n",
       "         'mani': 106,\n",
       "         'friend': 105,\n",
       "         'plan': 105,\n",
       "         'awar': 105,\n",
       "         'emphasi': 105,\n",
       "         'come': 104,\n",
       "         'complic': 103,\n",
       "         'much': 103,\n",
       "         'think': 103,\n",
       "         'impact': 103,\n",
       "         'ignor': 103,\n",
       "         'consum': 102,\n",
       "         'well': 102,\n",
       "         'either': 102,\n",
       "         'among': 102,\n",
       "         'last': 101,\n",
       "         'money': 101,\n",
       "         'expertis': 101,\n",
       "         'worri': 99,\n",
       "         'hear': 99,\n",
       "         'treat': 98,\n",
       "         'numer': 97,\n",
       "         'sign': 97,\n",
       "         'couldnt': 97,\n",
       "         'access': 97,\n",
       "         'absolut': 95,\n",
       "         'account': 95,\n",
       "         'minor': 95,\n",
       "         'interest': 94,\n",
       "         'huge': 94,\n",
       "         'set': 94,\n",
       "         'unfortun': 93,\n",
       "         'got': 93,\n",
       "         'pleasur': 93,\n",
       "         'gener': 92,\n",
       "         'done': 92,\n",
       "         'demonstr': 92,\n",
       "         'collis': 92,\n",
       "         'end': 91,\n",
       "         'customercentr': 90,\n",
       "         'risk': 90,\n",
       "         'expens': 90,\n",
       "         'nevertheless': 90,\n",
       "         'natur': 90,\n",
       "         'wouldnt': 89,\n",
       "         'peopl': 89,\n",
       "         'challeng': 89,\n",
       "         'claimant': 89,\n",
       "         'speed': 89,\n",
       "         'specif': 89,\n",
       "         'assess': 88,\n",
       "         'believ': 88,\n",
       "         'loyal': 88,\n",
       "         'client': 88,\n",
       "         'import': 88,\n",
       "         'overli': 86,\n",
       "         'short': 85,\n",
       "         'alreadi': 85,\n",
       "         'listen': 85,\n",
       "         'hidden': 85,\n",
       "         'theft': 85,\n",
       "         'told': 84,\n",
       "         'apolog': 84,\n",
       "         'loyalti': 83,\n",
       "         'patienc': 83,\n",
       "         'worst': 82,\n",
       "         'clarifi': 82,\n",
       "         'willing': 82,\n",
       "         'advis': 81,\n",
       "         'clarif': 81,\n",
       "         'fact': 81,\n",
       "         'system': 80,\n",
       "         'proactiv': 80,\n",
       "         'everyon': 80,\n",
       "         'immens': 80,\n",
       "         'reduc': 80,\n",
       "         'clearer': 80,\n",
       "         'wasnt': 79,\n",
       "         'uncertain': 79,\n",
       "         'might': 79,\n",
       "         'that': 79,\n",
       "         'helpless': 78,\n",
       "         'focu': 78,\n",
       "         'gamechang': 78,\n",
       "         'remain': 77,\n",
       "         'although': 77,\n",
       "         'rang': 77,\n",
       "         'followup': 76,\n",
       "         'finish': 76,\n",
       "         'incid': 76,\n",
       "         'area': 76,\n",
       "         'claus': 76,\n",
       "         'fairli': 75,\n",
       "         'featur': 75,\n",
       "         'unsur': 74,\n",
       "         'thing': 74,\n",
       "         'state': 74,\n",
       "         'easili': 74,\n",
       "         'eas': 74,\n",
       "         'unheard': 73,\n",
       "         'deserv': 73,\n",
       "         'next': 73,\n",
       "         'skill': 73,\n",
       "         'affect': 73,\n",
       "         'move': 73,\n",
       "         'owner': 73,\n",
       "         'circumst': 72,\n",
       "         'lose': 72,\n",
       "         'autom': 72,\n",
       "         'inadequ': 71,\n",
       "         'toward': 71,\n",
       "         'respect': 71,\n",
       "         'injuri': 71,\n",
       "         'basic': 70,\n",
       "         'failur': 70,\n",
       "         'minut': 70,\n",
       "         'promot': 70,\n",
       "         'wellwritten': 70,\n",
       "         'realli': 69,\n",
       "         'amaz': 69,\n",
       "         'emphas': 69,\n",
       "         'roadsid': 69,\n",
       "         'rectifi': 68,\n",
       "         'poorli': 68,\n",
       "         'suggest': 68,\n",
       "         'whether': 68,\n",
       "         'testament': 68,\n",
       "         'settl': 67,\n",
       "         'moreov': 67,\n",
       "         'await': 67,\n",
       "         'uniqu': 67,\n",
       "         'understood': 67,\n",
       "         'enjoy': 67,\n",
       "         'dismiss': 66,\n",
       "         'unforeseen': 66,\n",
       "         'happi': 66,\n",
       "         'often': 66,\n",
       "         'timelin': 66,\n",
       "         'anxiou': 66,\n",
       "         'relationship': 66,\n",
       "         'breath': 65,\n",
       "         'deliv': 65,\n",
       "         'somewhat': 65,\n",
       "         'period': 64,\n",
       "         'doesnt': 64,\n",
       "         'overwhelm': 64,\n",
       "         'first': 64,\n",
       "         'theyv': 64,\n",
       "         'wellb': 64,\n",
       "         'air': 64,\n",
       "         'escal': 63,\n",
       "         'advantag': 63,\n",
       "         'favor': 63,\n",
       "         'discount': 63,\n",
       "         'fresh': 63,\n",
       "         'room': 62,\n",
       "         'glad': 62,\n",
       "         'enhanc': 61,\n",
       "         'qualiti': 61,\n",
       "         'extra': 61,\n",
       "         'refund': 60,\n",
       "         'rental': 60,\n",
       "         'auto': 60,\n",
       "         'fulli': 60,\n",
       "         'genuin': 60,\n",
       "         'excess': 59,\n",
       "         'ever': 59,\n",
       "         'type': 58,\n",
       "         'pleasant': 58,\n",
       "         'customerfriendli': 58,\n",
       "         'guidanc': 58,\n",
       "         'maintain': 57,\n",
       "         'there': 57,\n",
       "         'touch': 57,\n",
       "         'determin': 57,\n",
       "         'full': 56,\n",
       "         'point': 56,\n",
       "         'cancel': 56,\n",
       "         'timeconsum': 55,\n",
       "         'anoth': 55,\n",
       "         'speak': 55,\n",
       "         'user': 55,\n",
       "         'regularli': 55,\n",
       "         'constant': 54,\n",
       "         'dissatisfact': 54,\n",
       "         'worth': 54,\n",
       "         'fantast': 54,\n",
       "         'turnaround': 54,\n",
       "         'etern': 53,\n",
       "         'actual': 53,\n",
       "         'quot': 53,\n",
       "         'star': 53,\n",
       "         'wonder': 53,\n",
       "         'hesit': 52,\n",
       "         'show': 52,\n",
       "         'wish': 52,\n",
       "         'stay': 52,\n",
       "         'okay': 52,\n",
       "         'depart': 51,\n",
       "         'jargon': 51,\n",
       "         'crystal': 51,\n",
       "         'balanc': 51,\n",
       "         'super': 51,\n",
       "         'track': 50,\n",
       "         'distress': 50,\n",
       "         'disrespect': 50,\n",
       "         'empathet': 50,\n",
       "         'stagger': 50,\n",
       "         'unfriendli': 50,\n",
       "         'let': 50,\n",
       "         'payout': 50,\n",
       "         'cooper': 50,\n",
       "         'rel': 50,\n",
       "         'suit': 50,\n",
       "         'strongli': 49,\n",
       "         'happen': 49,\n",
       "         'paperwork': 49,\n",
       "         'instanc': 49,\n",
       "         'swift': 49,\n",
       "         'resourc': 49,\n",
       "         'expedit': 49,\n",
       "         'properti': 49,\n",
       "         'dark': 48,\n",
       "         'subpar': 48,\n",
       "         'factor': 48,\n",
       "         'conclus': 48,\n",
       "         'procedur': 48,\n",
       "         'unabl': 48,\n",
       "         'compar': 48,\n",
       "         'spend': 47,\n",
       "         'encount': 47,\n",
       "         'express': 47,\n",
       "         'sour': 47,\n",
       "         'messag': 47,\n",
       "         'base': 47,\n",
       "         'certain': 47,\n",
       "         'remark': 47,\n",
       "         'ineffici': 46,\n",
       "         'breakdown': 46,\n",
       "         'lost': 46,\n",
       "         'technic': 46,\n",
       "         'bother': 46,\n",
       "         'eventu': 45,\n",
       "         'assur': 45,\n",
       "         'kudo': 45,\n",
       "         'implement': 44,\n",
       "         'given': 44,\n",
       "         'youll': 44,\n",
       "         'note': 44,\n",
       "         'followthrough': 43,\n",
       "         'cant': 43,\n",
       "         'hassl': 43,\n",
       "         'timefram': 43,\n",
       "         'foster': 43,\n",
       "         'written': 43,\n",
       "         'simplifi': 43,\n",
       "         'wellorgan': 43,\n",
       "         'wide': 43,\n",
       "         'inabl': 42,\n",
       "         'number': 42,\n",
       "         'notic': 42,\n",
       "         'calcul': 42,\n",
       "         'less': 41,\n",
       "         'profit': 41,\n",
       "         'reconsid': 41,\n",
       "         'greatli': 41,\n",
       "         'difficulti': 41,\n",
       "         'streamlin': 41,\n",
       "         'associ': 41,\n",
       "         'exactli': 41,\n",
       "         'solid': 41,\n",
       "         'drag': 40,\n",
       "         'prolong': 40,\n",
       "         'reflect': 40,\n",
       "         'part': 40,\n",
       "         'portal': 40,\n",
       "         'typic': 40,\n",
       "         'stand': 40,\n",
       "         'budget': 40,\n",
       "         'deni': 39,\n",
       "         'acknowledg': 39,\n",
       "         'unhappi': 39,\n",
       "         'share': 39,\n",
       "         'disinterest': 39,\n",
       "         'transfer': 39,\n",
       "         'rather': 39,\n",
       "         'dilig': 39,\n",
       "         'scenario': 39,\n",
       "         'nonetheless': 39,\n",
       "         'line': 38,\n",
       "         'minim': 38,\n",
       "         'tailor': 38,\n",
       "         'mistak': 37,\n",
       "         'revisit': 37,\n",
       "         'age': 37,\n",
       "         'someth': 37,\n",
       "         'save': 37,\n",
       "         'chose': 37,\n",
       "         'wellexplain': 37,\n",
       "         'similar': 36,\n",
       "         'miss': 36,\n",
       "         'consist': 36,\n",
       "         'record': 36,\n",
       "         'conveni': 36,\n",
       "         'utmost': 36,\n",
       "         'relief': 36,\n",
       "         'safe': 36,\n",
       "         'unresolv': 35,\n",
       "         'abysm': 35,\n",
       "         'check': 35,\n",
       "         'youv': 35,\n",
       "         'smoother': 35,\n",
       "         'convers': 35,\n",
       "         'open': 35,\n",
       "         'success': 35,\n",
       "         'grasp': 35,\n",
       "         'wors': 34,\n",
       "         'incompet': 34,\n",
       "         'asap': 34,\n",
       "         'properli': 34,\n",
       "         'imposs': 34,\n",
       "         'charg': 34,\n",
       "         'shock': 34,\n",
       "         'will': 34,\n",
       "         'rest': 34,\n",
       "         'inclus': 34,\n",
       "         'two': 33,\n",
       "         'inordin': 33,\n",
       "         'attitud': 33,\n",
       "         'prioriti': 33,\n",
       "         'write': 33,\n",
       "         'forc': 33,\n",
       "         'anticip': 33,\n",
       "         'vital': 33,\n",
       "         'invest': 33,\n",
       "         'pitfal': 33,\n",
       "         'plu': 33,\n",
       "         'serv': 32,\n",
       "         'fix': 32,\n",
       "         'ordeal': 32,\n",
       "         'faster': 32,\n",
       "         'submiss': 32,\n",
       "         'exacerb': 32,\n",
       "         'approv': 32,\n",
       "         'fast': 32,\n",
       "         'demeanor': 32,\n",
       "         'concept': 32,\n",
       "         'unbeliev': 31,\n",
       "         'suppos': 31,\n",
       "         'weve': 31,\n",
       "         'relev': 31,\n",
       "         'market': 31,\n",
       "         'accur': 31,\n",
       "         'appli': 31,\n",
       "         'chosen': 31,\n",
       "         'welldefin': 31,\n",
       "         'anyth': 30,\n",
       "         'vagu': 30,\n",
       "         'needless': 30,\n",
       "         'significantli': 30,\n",
       "         'place': 30,\n",
       "         'highlight': 30,\n",
       "         'train': 30,\n",
       "         'opportun': 30,\n",
       "         'doubt': 30,\n",
       "         'mutual': 30,\n",
       "         'idea': 30,\n",
       "         'refresh': 30,\n",
       "         'order': 30,\n",
       "         'fit': 30,\n",
       "         'turn': 29,\n",
       "         'undu': 29,\n",
       "         'reimburs': 29,\n",
       "         'critic': 29,\n",
       "         'kind': 29,\n",
       "         'stabil': 29,\n",
       "         'shown': 29,\n",
       "         'valuabl': 29,\n",
       "         'daili': 29,\n",
       "         'drawback': 29,\n",
       "         'mix': 29,\n",
       "         'disregard': 28,\n",
       "         'joke': 28,\n",
       "         'els': 28,\n",
       "         'estim': 28,\n",
       "         'slightli': 28,\n",
       "         'smoothli': 28,\n",
       "         'medic': 28,\n",
       "         'hand': 28,\n",
       "         'apart': 28,\n",
       "         'oblig': 27,\n",
       "         'excus': 27,\n",
       "         'formal': 27,\n",
       "         'firstli': 27,\n",
       "         'mislead': 27,\n",
       "         'paid': 27,\n",
       "         'forev': 27,\n",
       "         'lower': 27,\n",
       "         'member': 27,\n",
       "         'perhap': 27,\n",
       "         'earn': 27,\n",
       "         'inconsist': 27,\n",
       "         'applic': 27,\n",
       "         'suitabl': 27,\n",
       "         'struggl': 27,\n",
       "         'meanwhil': 27,\n",
       "         'pick': 27,\n",
       "         'pleasantli': 27,\n",
       "         'summari': 27,\n",
       "         'shop': 26,\n",
       "         'past': 26,\n",
       "         'consequ': 26,\n",
       "         'bill': 26,\n",
       "         'examin': 26,\n",
       "         'upon': 26,\n",
       "         'guid': 26,\n",
       "         'mar': 25,\n",
       "         'total': 25,\n",
       "         'return': 25,\n",
       "         'infuri': 25,\n",
       "         'misl': 25,\n",
       "         'unsatisfi': 25,\n",
       "         'utterli': 25,\n",
       "         'reevalu': 25,\n",
       "         'pass': 25,\n",
       "         'heard': 25,\n",
       "         'decid': 25,\n",
       "         'evalu': 25,\n",
       "         'surprisingli': 25,\n",
       "         'honest': 25,\n",
       "         'unparallel': 25,\n",
       "         'effortless': 25,\n",
       "         'shine': 25,\n",
       "         'scope': 25,\n",
       "         'strong': 25,\n",
       "         'repeat': 24,\n",
       "         'suffici': 24,\n",
       "         'perfect': 24,\n",
       "         'imper': 24,\n",
       "         'unbear': 24,\n",
       "         'face': 24,\n",
       "         'treatment': 24,\n",
       "         'strive': 24,\n",
       "         'thirdparti': 24,\n",
       "         'eager': 24,\n",
       "         'theyll': 24,\n",
       "         'gratitud': 24,\n",
       "         'enabl': 24,\n",
       "         'happier': 24,\n",
       "         'illustr': 24,\n",
       "         'extend': 23,\n",
       "         'intent': 23,\n",
       "         'fall': 23,\n",
       "         'therefor': 23,\n",
       "         'ridicul': 23,\n",
       "         'run': 23,\n",
       "         'aris': 23,\n",
       "         'identifi': 23,\n",
       "         'practic': 23,\n",
       "         'replac': 23,\n",
       "         'depend': 23,\n",
       "         'structur': 23,\n",
       "         'easytounderstand': 23,\n",
       "         'interfac': 23,\n",
       "         'nuanc': 23,\n",
       "         'occur': 22,\n",
       "         'unansw': 22,\n",
       "         'warn': 22,\n",
       "         'consider': 22,\n",
       "         'visit': 22,\n",
       "         'proceed': 22,\n",
       "         'break': 22,\n",
       "         'togeth': 22,\n",
       "         'divers': 22,\n",
       "         'accommod': 22,\n",
       "         'world': 22,\n",
       "         'maximum': 22,\n",
       "         'autozon': 22,\n",
       "         'wellinform': 22,\n",
       "         'consumerfriendli': 22,\n",
       "         'longterm': 22,\n",
       "         'contract': 22,\n",
       "         'love': 22,\n",
       "         'special': 22,\n",
       "         'mile': 22,\n",
       "         'uncoop': 21,\n",
       "         'low': 21,\n",
       "         'top': 21,\n",
       "         'inquir': 21,\n",
       "         'supervisor': 21,\n",
       "         'platform': 21,\n",
       "         'notifi': 21,\n",
       "         'relat': 21,\n",
       "         'usual': 21,\n",
       "         'product': 21,\n",
       "         'rewritten': 21,\n",
       "         'convolut': 21,\n",
       "         'align': 21,\n",
       "         'direct': 21,\n",
       "         'glossari': 21,\n",
       "         'def': 21,\n",
       "         'twice': 20,\n",
       "         'urgent': 20,\n",
       "         'accordingli': 20,\n",
       "         'add': 20,\n",
       "         'simpli': 20,\n",
       "         'mistrust': 20,\n",
       "         'silenc': 20,\n",
       "         'extent': 20,\n",
       "         'agreement': 20,\n",
       "         'app': 20,\n",
       "         'vari': 20,\n",
       "         'turnoff': 20,\n",
       "         'safeti': 20,\n",
       "         'reader': 20,\n",
       "         'compon': 20,\n",
       "         'addon': 20,\n",
       "         'unremark': 20,\n",
       "         'deadlin': 19,\n",
       "         'fed': 19,\n",
       "         'hang': 19,\n",
       "         'proper': 19,\n",
       "         'feet': 19,\n",
       "         'tediou': 19,\n",
       "         'hello': 19,\n",
       "         'enough': 19,\n",
       "         'reassur': 19,\n",
       "         'locat': 19,\n",
       "         'big': 19,\n",
       "         'today': 19,\n",
       "         'bias': 19,\n",
       "         'terminolog': 19,\n",
       "         'empow': 19,\n",
       "         'liberti': 19,\n",
       "         'dishearten': 18,\n",
       "         'isnt': 18,\n",
       "         'unsupport': 18,\n",
       "         'inspect': 18,\n",
       "         'consult': 18,\n",
       "         'side': 18,\n",
       "         'surround': 18,\n",
       "         'allevi': 18,\n",
       "         'develop': 18,\n",
       "         'free': 18,\n",
       "         'common': 18,\n",
       "         'organ': 18,\n",
       "         'nice': 18,\n",
       "         'guy': 18,\n",
       "         'equal': 18,\n",
       "         'simplic': 18,\n",
       "         'adapt': 18,\n",
       "         'passeng': 18,\n",
       "         'mediocr': 18,\n",
       "         'emot': 17,\n",
       "         'runaround': 17,\n",
       "         'behavior': 17,\n",
       "         'distrust': 17,\n",
       "         'sent': 17,\n",
       "         'offic': 17,\n",
       "         'sort': 17,\n",
       "         'three': 17,\n",
       "         'though': 17,\n",
       "         'indic': 17,\n",
       "         'emerg': 17,\n",
       "         'partner': 17,\n",
       "         'becom': 17,\n",
       "         'pretti': 17,\n",
       "         'encourag': 17,\n",
       "         'achiev': 17,\n",
       "         'rude': 17,\n",
       "         'cater': 17,\n",
       "         'opt': 17,\n",
       "         'provis': 17,\n",
       "         'foundat': 17,\n",
       "         'excit': 17,\n",
       "         'countless': 16,\n",
       "         'date': 16,\n",
       "         'altern': 16,\n",
       "         ...})"
      ]
     },
     "execution_count": 209,
     "metadata": {},
     "output_type": "execute_result"
    }
   ],
   "source": [
    "vocab"
   ]
  },
  {
   "cell_type": "markdown",
   "id": "5b3f885f-578e-4112-950a-1f022193f1ff",
   "metadata": {},
   "source": [
    "##### creating vocabulary"
   ]
  },
  {
   "cell_type": "code",
   "execution_count": 210,
   "id": "dc59df26-20f9-4061-8144-dba4369f3653",
   "metadata": {
    "dotnet_interactive": {
     "language": "csharp"
    },
    "polyglot_notebook": {
     "kernelName": "csharp"
    },
    "vscode": {
     "languageId": "polyglot-notebook"
    }
   },
   "outputs": [],
   "source": [
    "tokens=[key for key in vocab if vocab[key]>50]"
   ]
  },
  {
   "cell_type": "code",
   "execution_count": 211,
   "id": "0204e52e-47dc-42d7-a4cb-8b9e64588cd9",
   "metadata": {
    "dotnet_interactive": {
     "language": "csharp"
    },
    "polyglot_notebook": {
     "kernelName": "csharp"
    },
    "vscode": {
     "languageId": "polyglot-notebook"
    }
   },
   "outputs": [
    {
     "data": {
      "text/plain": [
       "625"
      ]
     },
     "execution_count": 211,
     "metadata": {},
     "output_type": "execute_result"
    }
   ],
   "source": [
    "len(tokens)"
   ]
  },
  {
   "cell_type": "markdown",
   "id": "ee8902bd-6b68-4892-96dd-a620e68995d2",
   "metadata": {},
   "source": [
    "##### save vocabulary"
   ]
  },
  {
   "cell_type": "code",
   "execution_count": 212,
   "id": "2267680f-eae7-4dfc-9e89-b363d5d5fcfb",
   "metadata": {
    "dotnet_interactive": {
     "language": "csharp"
    },
    "polyglot_notebook": {
     "kernelName": "csharp"
    },
    "vscode": {
     "languageId": "polyglot-notebook"
    }
   },
   "outputs": [],
   "source": [
    "def save_vocubulary(lines, filename):\n",
    "    data='\\n'.join(lines)\n",
    "    file=open(filename,'w',encoding='utf-8')\n",
    "    file.write(data)\n",
    "    file.close()\n",
    "\n",
    "save_vocubulary(tokens,'../static/model/vocabulary.txt')"
   ]
  },
  {
   "cell_type": "markdown",
   "id": "32e6601c-7ba4-4477-b5f8-cdb5d1c2b12d",
   "metadata": {},
   "source": [
    "### Divide Dataset"
   ]
  },
  {
   "cell_type": "code",
   "execution_count": 213,
   "id": "7f046319-5a81-475a-8831-d3119910e8b4",
   "metadata": {
    "dotnet_interactive": {
     "language": "csharp"
    },
    "polyglot_notebook": {
     "kernelName": "csharp"
    },
    "vscode": {
     "languageId": "polyglot-notebook"
    }
   },
   "outputs": [],
   "source": [
    "X=data[\"feedback\"]\n",
    "Y=data[\"sentiment (binary)\"]\n",
    "Z=data[\"category (binary)\"]"
   ]
  },
  {
   "cell_type": "code",
   "execution_count": 214,
   "id": "808c2727-4b73-4737-a58e-06da8edaffa3",
   "metadata": {
    "dotnet_interactive": {
     "language": "csharp"
    },
    "polyglot_notebook": {
     "kernelName": "csharp"
    },
    "vscode": {
     "languageId": "polyglot-notebook"
    }
   },
   "outputs": [
    {
     "data": {
      "text/plain": [
       "0       im extrem disappoint lengthi unsatisfactori ve...\n",
       "1       ineffici commun lack transpar throughout claim...\n",
       "2       recent terribl experi vehicl insur claim proce...\n",
       "3       extrem dissatisfi vehicl insur claim process t...\n",
       "4       poor commun throughout entir process unwilling...\n",
       "                              ...                        \n",
       "7580    outstand servic vehicl insur compani team extr...\n",
       "7581    excel custom servic vehicl insur compani repre...\n",
       "7582    excel servic vehicl insur compani repres highl...\n",
       "7583    good servic excel commun insur compani repres ...\n",
       "7584    outstand custom servic tripl aaa insur unparal...\n",
       "Name: feedback, Length: 7475, dtype: object"
      ]
     },
     "execution_count": 214,
     "metadata": {},
     "output_type": "execute_result"
    }
   ],
   "source": [
    "X"
   ]
  },
  {
   "cell_type": "code",
   "execution_count": 215,
   "id": "39a4e1f5-da3c-4fcb-adb0-a74ed33b5f8d",
   "metadata": {
    "dotnet_interactive": {
     "language": "csharp"
    },
    "polyglot_notebook": {
     "kernelName": "csharp"
    },
    "vscode": {
     "languageId": "polyglot-notebook"
    }
   },
   "outputs": [
    {
     "data": {
      "text/plain": [
       "0       1\n",
       "1       1\n",
       "2       1\n",
       "3       1\n",
       "4       1\n",
       "       ..\n",
       "7580    0\n",
       "7581    0\n",
       "7582    0\n",
       "7583    0\n",
       "7584    0\n",
       "Name: sentiment (binary), Length: 7475, dtype: int64"
      ]
     },
     "execution_count": 215,
     "metadata": {},
     "output_type": "execute_result"
    }
   ],
   "source": [
    "Y"
   ]
  },
  {
   "cell_type": "code",
   "execution_count": 216,
   "id": "1166c858-3750-499c-a11b-79c0d1316c56",
   "metadata": {
    "dotnet_interactive": {
     "language": "csharp"
    },
    "polyglot_notebook": {
     "kernelName": "csharp"
    },
    "vscode": {
     "languageId": "polyglot-notebook"
    }
   },
   "outputs": [
    {
     "data": {
      "text/plain": [
       "0       0\n",
       "1       0\n",
       "2       0\n",
       "3       0\n",
       "4       0\n",
       "       ..\n",
       "7580    1\n",
       "7581    1\n",
       "7582    1\n",
       "7583    1\n",
       "7584    1\n",
       "Name: category (binary), Length: 7475, dtype: int64"
      ]
     },
     "execution_count": 216,
     "metadata": {},
     "output_type": "execute_result"
    }
   ],
   "source": [
    "Z"
   ]
  },
  {
   "cell_type": "code",
   "execution_count": 217,
   "id": "9c389c06-b94f-4999-974d-61a9fe7b3d9e",
   "metadata": {
    "dotnet_interactive": {
     "language": "csharp"
    },
    "polyglot_notebook": {
     "kernelName": "csharp"
    },
    "vscode": {
     "languageId": "polyglot-notebook"
    }
   },
   "outputs": [
    {
     "name": "stdout",
     "output_type": "stream",
     "text": [
      "Requirement already satisfied: scikit-learn in f:\\projects\\github projects\\sentiment_analysis_research\\env\\lib\\site-packages (1.5.2)\n",
      "Requirement already satisfied: numpy>=1.19.5 in f:\\projects\\github projects\\sentiment_analysis_research\\env\\lib\\site-packages (from scikit-learn) (2.1.3)\n",
      "Requirement already satisfied: scipy>=1.6.0 in f:\\projects\\github projects\\sentiment_analysis_research\\env\\lib\\site-packages (from scikit-learn) (1.14.1)\n",
      "Requirement already satisfied: joblib>=1.2.0 in f:\\projects\\github projects\\sentiment_analysis_research\\env\\lib\\site-packages (from scikit-learn) (1.4.2)\n",
      "Requirement already satisfied: threadpoolctl>=3.1.0 in f:\\projects\\github projects\\sentiment_analysis_research\\env\\lib\\site-packages (from scikit-learn) (3.5.0)\n"
     ]
    },
    {
     "name": "stderr",
     "output_type": "stream",
     "text": [
      "\n",
      "[notice] A new release of pip is available: 24.3.1 -> 25.0.1\n",
      "[notice] To update, run: F:\\Projects\\github projects\\sentiment_analysis_research\\env\\Scripts\\python.exe -m pip install --upgrade pip\n"
     ]
    }
   ],
   "source": [
    "!pip install scikit-learn"
   ]
  },
  {
   "cell_type": "code",
   "execution_count": 218,
   "id": "5128b215-c925-48b0-a086-fd9c646e0941",
   "metadata": {
    "dotnet_interactive": {
     "language": "csharp"
    },
    "polyglot_notebook": {
     "kernelName": "csharp"
    },
    "vscode": {
     "languageId": "polyglot-notebook"
    }
   },
   "outputs": [],
   "source": [
    "from sklearn.model_selection import train_test_split\n",
    "X_train, X_test, Y_train, Y_test, Z_train, Z_test = train_test_split(X, Y, Z, test_size=0.2)"
   ]
  },
  {
   "cell_type": "code",
   "execution_count": 219,
   "id": "1c275054-666c-465d-9aad-ad1b2cd32b51",
   "metadata": {
    "dotnet_interactive": {
     "language": "csharp"
    },
    "polyglot_notebook": {
     "kernelName": "csharp"
    },
    "vscode": {
     "languageId": "polyglot-notebook"
    }
   },
   "outputs": [
    {
     "data": {
      "text/plain": [
       "(5980,)"
      ]
     },
     "execution_count": 219,
     "metadata": {},
     "output_type": "execute_result"
    }
   ],
   "source": [
    "X_train.shape"
   ]
  },
  {
   "cell_type": "code",
   "execution_count": 220,
   "id": "4fd8b9b4-ee1b-4cc3-bf61-fbdfb5fa0a44",
   "metadata": {
    "dotnet_interactive": {
     "language": "csharp"
    },
    "polyglot_notebook": {
     "kernelName": "csharp"
    },
    "vscode": {
     "languageId": "polyglot-notebook"
    }
   },
   "outputs": [
    {
     "data": {
      "text/plain": [
       "1495"
      ]
     },
     "execution_count": 220,
     "metadata": {},
     "output_type": "execute_result"
    }
   ],
   "source": [
    "len(X_test)"
   ]
  },
  {
   "cell_type": "code",
   "execution_count": 221,
   "id": "0d4e6334-7c90-4758-836f-2f2691303283",
   "metadata": {
    "dotnet_interactive": {
     "language": "csharp"
    },
    "polyglot_notebook": {
     "kernelName": "csharp"
    },
    "vscode": {
     "languageId": "polyglot-notebook"
    }
   },
   "outputs": [
    {
     "data": {
      "text/plain": [
       "5980"
      ]
     },
     "execution_count": 221,
     "metadata": {},
     "output_type": "execute_result"
    }
   ],
   "source": [
    "len(Y_train)"
   ]
  },
  {
   "cell_type": "code",
   "execution_count": 222,
   "id": "5774060b-7bc9-4cd4-9c72-6725f5e65644",
   "metadata": {
    "dotnet_interactive": {
     "language": "csharp"
    },
    "polyglot_notebook": {
     "kernelName": "csharp"
    },
    "vscode": {
     "languageId": "polyglot-notebook"
    }
   },
   "outputs": [
    {
     "data": {
      "text/plain": [
       "1495"
      ]
     },
     "execution_count": 222,
     "metadata": {},
     "output_type": "execute_result"
    }
   ],
   "source": [
    "len(Y_test)"
   ]
  },
  {
   "cell_type": "code",
   "execution_count": 223,
   "id": "a0888746-9d41-4823-806c-682deed0476b",
   "metadata": {
    "dotnet_interactive": {
     "language": "csharp"
    },
    "polyglot_notebook": {
     "kernelName": "csharp"
    },
    "vscode": {
     "languageId": "polyglot-notebook"
    }
   },
   "outputs": [
    {
     "data": {
      "text/plain": [
       "5980"
      ]
     },
     "execution_count": 223,
     "metadata": {},
     "output_type": "execute_result"
    }
   ],
   "source": [
    "len(Z_train)"
   ]
  },
  {
   "cell_type": "code",
   "execution_count": 224,
   "id": "12d38728-42c7-4103-a113-4cd0dfa8af28",
   "metadata": {
    "dotnet_interactive": {
     "language": "csharp"
    },
    "polyglot_notebook": {
     "kernelName": "csharp"
    },
    "vscode": {
     "languageId": "polyglot-notebook"
    }
   },
   "outputs": [
    {
     "data": {
      "text/plain": [
       "1495"
      ]
     },
     "execution_count": 224,
     "metadata": {},
     "output_type": "execute_result"
    }
   ],
   "source": [
    "len(Z_test)"
   ]
  },
  {
   "cell_type": "markdown",
   "id": "0048869d-2418-47cb-a85d-702944c4cb77",
   "metadata": {},
   "source": [
    "### Vectorization"
   ]
  },
  {
   "cell_type": "code",
   "execution_count": 225,
   "id": "46c14a12-19d3-4ce3-a0fe-668707bcc0a0",
   "metadata": {},
   "outputs": [],
   "source": [
    "from sklearn.feature_extraction.text import TfidfVectorizer"
   ]
  },
  {
   "cell_type": "code",
   "execution_count": 226,
   "id": "642bd9fc-0c88-4469-8b76-4855b0c80280",
   "metadata": {
    "dotnet_interactive": {
     "language": "csharp"
    },
    "polyglot_notebook": {
     "kernelName": "csharp"
    },
    "vscode": {
     "languageId": "polyglot-notebook"
    }
   },
   "outputs": [],
   "source": [
    "vectorizer = TfidfVectorizer(\n",
    "    max_features=3000,  \n",
    "    ngram_range=(1, 2),  # Use unigrams and bigrams for richer features\n",
    "    stop_words='english'  # Remove common stopwords\n",
    ")\n",
    "\n",
    "\n",
    "vectorized_X_train = vectorizer.fit_transform(X_train)\n",
    "vectorized_X_test = vectorizer.transform(X_test)\n",
    "\n",
    "import pickle\n",
    "with open('../static/model/tfidf_vectorizer.pickle', 'wb') as file:\n",
    "    pickle.dump(vectorizer, file)"
   ]
  },
  {
   "cell_type": "markdown",
   "id": "a263feca-5aa2-43c2-abe6-7731c007ce46",
   "metadata": {},
   "source": [
    "##### vextorized the training feedbacks"
   ]
  },
  {
   "cell_type": "code",
   "execution_count": 227,
   "id": "b6f43a05-6037-482d-8689-083868aca741",
   "metadata": {
    "dotnet_interactive": {
     "language": "csharp"
    },
    "polyglot_notebook": {
     "kernelName": "csharp"
    },
    "vscode": {
     "languageId": "polyglot-notebook"
    }
   },
   "outputs": [
    {
     "name": "stdout",
     "output_type": "stream",
     "text": [
      "<Compressed Sparse Row sparse matrix of dtype 'float64'\n",
      "\twith 52 stored elements and shape (1, 3000)>\n",
      "  Coords\tValues\n",
      "  (0, 314)\t0.14483407760516764\n",
      "  (0, 175)\t0.13286396708141404\n",
      "  (0, 2911)\t0.0428307580537001\n",
      "  (0, 1391)\t0.03399472990684685\n",
      "  (0, 1806)\t0.1147114276992676\n",
      "  (0, 2594)\t0.131741907707871\n",
      "  (0, 809)\t0.17435302252546606\n",
      "  (0, 1001)\t0.08892011226016033\n",
      "  (0, 2710)\t0.07477856655764428\n",
      "  (0, 2511)\t0.13360011859134313\n",
      "  (0, 260)\t0.10718576732244482\n",
      "  (0, 1924)\t0.10908281329373105\n",
      "  (0, 767)\t0.17164782166933834\n",
      "  (0, 2819)\t0.17113438421551366\n",
      "  (0, 2036)\t0.06441295388775034\n",
      "  (0, 968)\t0.10685559100793449\n",
      "  (0, 562)\t0.15477069566271706\n",
      "  (0, 821)\t0.18023375528886645\n",
      "  (0, 592)\t0.050862476225033586\n",
      "  (0, 1471)\t0.1384336735674091\n",
      "  (0, 894)\t0.07923883681482191\n",
      "  (0, 2822)\t0.14945461262346016\n",
      "  (0, 857)\t0.14798798813762376\n",
      "  (0, 477)\t0.11589331522458043\n",
      "  (0, 2115)\t0.1352849410302704\n",
      "  :\t:\n",
      "  (0, 209)\t0.15522529884350475\n",
      "  (0, 1872)\t0.11752182806286281\n",
      "  (0, 772)\t0.0820550548280591\n",
      "  (0, 1186)\t0.10864557296340294\n",
      "  (0, 2657)\t0.07579474501376446\n",
      "  (0, 1778)\t0.18352086051697983\n",
      "  (0, 315)\t0.14895787307078312\n",
      "  (0, 178)\t0.1651433081608575\n",
      "  (0, 2914)\t0.04477740125188073\n",
      "  (0, 1406)\t0.0703563507752229\n",
      "  (0, 1861)\t0.14712909366535212\n",
      "  (0, 2610)\t0.19230920531292725\n",
      "  (0, 810)\t0.1799227290114611\n",
      "  (0, 1014)\t0.11572683628729098\n",
      "  (0, 289)\t0.13559422546956335\n",
      "  (0, 1963)\t0.20042612067694535\n",
      "  (0, 2043)\t0.12227499799949897\n",
      "  (0, 321)\t0.1276601189729107\n",
      "  (0, 970)\t0.1668648232780656\n",
      "  (0, 570)\t0.20320520018912588\n",
      "  (0, 824)\t0.14775025301262137\n",
      "  (0, 2824)\t0.18760008557770735\n",
      "  (0, 1056)\t0.15774621786673054\n",
      "  (0, 1936)\t0.16964390279024616\n",
      "  (0, 782)\t0.19787891179892234\n"
     ]
    }
   ],
   "source": [
    "for i in vectorized_X_train[0]:\n",
    "    print(i)"
   ]
  },
  {
   "cell_type": "code",
   "execution_count": 228,
   "id": "f27bd88d-e114-48e7-94a2-68930b19d7af",
   "metadata": {
    "dotnet_interactive": {
     "language": "csharp"
    },
    "polyglot_notebook": {
     "kernelName": "csharp"
    },
    "vscode": {
     "languageId": "polyglot-notebook"
    }
   },
   "outputs": [
    {
     "data": {
      "text/plain": [
       "<Compressed Sparse Row sparse matrix of dtype 'float64'\n",
       "\twith 52 stored elements and shape (1, 3000)>"
      ]
     },
     "execution_count": 228,
     "metadata": {},
     "output_type": "execute_result"
    }
   ],
   "source": [
    "vectorized_X_train[0]"
   ]
  },
  {
   "cell_type": "markdown",
   "id": "037f37a9-7813-401d-9d4a-504b8d201183",
   "metadata": {},
   "source": [
    "##### vectorize the test feedbacks"
   ]
  },
  {
   "cell_type": "code",
   "execution_count": null,
   "id": "05a5ba6f-32da-400c-9b55-9c4d0fa2dc57",
   "metadata": {
    "dotnet_interactive": {
     "language": "csharp"
    },
    "polyglot_notebook": {
     "kernelName": "csharp"
    },
    "vscode": {
     "languageId": "polyglot-notebook"
    }
   },
   "outputs": [],
   "source": []
  },
  {
   "cell_type": "code",
   "execution_count": 229,
   "id": "01977a2e-bf23-46de-885b-d9b7ff7592bc",
   "metadata": {
    "dotnet_interactive": {
     "language": "csharp"
    },
    "polyglot_notebook": {
     "kernelName": "csharp"
    },
    "vscode": {
     "languageId": "polyglot-notebook"
    }
   },
   "outputs": [
    {
     "data": {
      "text/plain": [
       "<Compressed Sparse Row sparse matrix of dtype 'float64'\n",
       "\twith 70321 stored elements and shape (1495, 3000)>"
      ]
     },
     "execution_count": 229,
     "metadata": {},
     "output_type": "execute_result"
    }
   ],
   "source": [
    "vectorized_X_test"
   ]
  },
  {
   "cell_type": "code",
   "execution_count": 230,
   "id": "70a2415e-5545-4295-a964-e507e5f9f94f",
   "metadata": {
    "dotnet_interactive": {
     "language": "csharp"
    },
    "polyglot_notebook": {
     "kernelName": "csharp"
    },
    "vscode": {
     "languageId": "polyglot-notebook"
    }
   },
   "outputs": [
    {
     "data": {
      "text/plain": [
       "<Compressed Sparse Row sparse matrix of dtype 'float64'\n",
       "\twith 278107 stored elements and shape (5980, 3000)>"
      ]
     },
     "execution_count": 230,
     "metadata": {},
     "output_type": "execute_result"
    }
   ],
   "source": [
    "vectorized_X_train"
   ]
  },
  {
   "cell_type": "code",
   "execution_count": 231,
   "id": "f4d666fe-bd40-4647-a7c8-64e43fd5e971",
   "metadata": {
    "dotnet_interactive": {
     "language": "csharp"
    },
    "polyglot_notebook": {
     "kernelName": "csharp"
    },
    "vscode": {
     "languageId": "polyglot-notebook"
    }
   },
   "outputs": [
    {
     "data": {
      "text/plain": [
       "4789     0\n",
       "551      1\n",
       "7482     0\n",
       "6211    10\n",
       "40       1\n",
       "        ..\n",
       "5461     1\n",
       "886     10\n",
       "1955     0\n",
       "6080    10\n",
       "6620    10\n",
       "Name: sentiment (binary), Length: 5980, dtype: int64"
      ]
     },
     "execution_count": 231,
     "metadata": {},
     "output_type": "execute_result"
    }
   ],
   "source": [
    "Y_train"
   ]
  },
  {
   "cell_type": "code",
   "execution_count": 232,
   "id": "aaff17ae-c856-4f24-bc1a-e676c46f7a93",
   "metadata": {
    "dotnet_interactive": {
     "language": "csharp"
    },
    "polyglot_notebook": {
     "kernelName": "csharp"
    },
    "vscode": {
     "languageId": "polyglot-notebook"
    }
   },
   "outputs": [
    {
     "data": {
      "text/plain": [
       "sentiment (binary)\n",
       "1     2381\n",
       "0     2036\n",
       "10    1563\n",
       "Name: count, dtype: int64"
      ]
     },
     "execution_count": 232,
     "metadata": {},
     "output_type": "execute_result"
    }
   ],
   "source": [
    "Y_train.value_counts()"
   ]
  },
  {
   "cell_type": "code",
   "execution_count": 233,
   "id": "926aa58a-d840-4566-bfdb-22d5708ffe4a",
   "metadata": {
    "dotnet_interactive": {
     "language": "csharp"
    },
    "polyglot_notebook": {
     "kernelName": "csharp"
    },
    "vscode": {
     "languageId": "polyglot-notebook"
    }
   },
   "outputs": [
    {
     "data": {
      "image/png": "[encoded data removed]",
      "text/plain": [
       "<Figure size 640x480 with 1 Axes>"
      ]
     },
     "metadata": {},
     "output_type": "display_data"
    }
   ],
   "source": [
    "plt.pie(np.array([Y_train.value_counts()[0],Y_train.value_counts()[1],Y_train.value_counts()[10]]),labels=['positive','negative','neutral'])\n",
    "plt.show()"
   ]
  },
  {
   "cell_type": "code",
   "execution_count": 234,
   "id": "c652e5f8-bf68-4156-a202-2e638f627afb",
   "metadata": {
    "dotnet_interactive": {
     "language": "csharp"
    },
    "polyglot_notebook": {
     "kernelName": "csharp"
    },
    "vscode": {
     "languageId": "polyglot-notebook"
    }
   },
   "outputs": [
    {
     "data": {
      "text/plain": [
       "category (binary)\n",
       "10    2041\n",
       "1     1998\n",
       "0     1941\n",
       "Name: count, dtype: int64"
      ]
     },
     "execution_count": 234,
     "metadata": {},
     "output_type": "execute_result"
    }
   ],
   "source": [
    "Z_train.value_counts()"
   ]
  },
  {
   "cell_type": "code",
   "execution_count": 235,
   "id": "02ae8a2f-d4a0-48d9-92f9-b6fd68b06860",
   "metadata": {
    "dotnet_interactive": {
     "language": "csharp"
    },
    "polyglot_notebook": {
     "kernelName": "csharp"
    },
    "vscode": {
     "languageId": "polyglot-notebook"
    }
   },
   "outputs": [
    {
     "data": {
      "image/png": "[encoded data removed]",
      "text/plain": [
       "<Figure size 640x480 with 1 Axes>"
      ]
     },
     "metadata": {},
     "output_type": "display_data"
    }
   ],
   "source": [
    "plt.pie(np.array([Z_train.value_counts()[0],Z_train.value_counts()[1],Z_train.value_counts()[10]]),labels=['claim','service','policy'])\n",
    "plt.show()"
   ]
  },
  {
   "cell_type": "markdown",
   "id": "b3bc13cb-0078-49e9-b580-0c5d171314c2",
   "metadata": {},
   "source": [
    "### Handle imbalance dataset"
   ]
  },
  {
   "cell_type": "code",
   "execution_count": 236,
   "id": "25dc2eec-215f-4f2e-b67b-def193712649",
   "metadata": {
    "dotnet_interactive": {
     "language": "csharp"
    },
    "polyglot_notebook": {
     "kernelName": "csharp"
    },
    "vscode": {
     "languageId": "polyglot-notebook"
    }
   },
   "outputs": [
    {
     "name": "stdout",
     "output_type": "stream",
     "text": [
      "Requirement already satisfied: imbalanced-learn in f:\\projects\\github projects\\sentiment_analysis_research\\env\\lib\\site-packages (0.12.4)\n",
      "Requirement already satisfied: numpy>=1.17.3 in f:\\projects\\github projects\\sentiment_analysis_research\\env\\lib\\site-packages (from imbalanced-learn) (2.1.3)\n",
      "Requirement already satisfied: scipy>=1.5.0 in f:\\projects\\github projects\\sentiment_analysis_research\\env\\lib\\site-packages (from imbalanced-learn) (1.14.1)\n",
      "Requirement already satisfied: scikit-learn>=1.0.2 in f:\\projects\\github projects\\sentiment_analysis_research\\env\\lib\\site-packages (from imbalanced-learn) (1.5.2)\n",
      "Requirement already satisfied: joblib>=1.1.1 in f:\\projects\\github projects\\sentiment_analysis_research\\env\\lib\\site-packages (from imbalanced-learn) (1.4.2)\n",
      "Requirement already satisfied: threadpoolctl>=2.0.0 in f:\\projects\\github projects\\sentiment_analysis_research\\env\\lib\\site-packages (from imbalanced-learn) (3.5.0)\n"
     ]
    },
    {
     "name": "stderr",
     "output_type": "stream",
     "text": [
      "\n",
      "[notice] A new release of pip is available: 24.3.1 -> 25.0.1\n",
      "[notice] To update, run: F:\\Projects\\github projects\\sentiment_analysis_research\\env\\Scripts\\python.exe -m pip install --upgrade pip\n"
     ]
    }
   ],
   "source": [
    "!pip install imbalanced-learn"
   ]
  },
  {
   "cell_type": "code",
   "execution_count": 237,
   "id": "2b4c8c3c-5618-4367-870f-c9d7c3ea2f5e",
   "metadata": {
    "dotnet_interactive": {
     "language": "csharp"
    },
    "polyglot_notebook": {
     "kernelName": "csharp"
    },
    "vscode": {
     "languageId": "polyglot-notebook"
    }
   },
   "outputs": [
    {
     "name": "stdout",
     "output_type": "stream",
     "text": [
      "(7143, 3000) (7143,)\n"
     ]
    }
   ],
   "source": [
    "from imblearn.over_sampling import SMOTE\n",
    "smote=SMOTE()\n",
    "vectorized_X_train_smote,Y_train_smote=smote.fit_resample(vectorized_X_train,Y_train)\n",
    "print(vectorized_X_train_smote.shape,Y_train_smote.shape)"
   ]
  },
  {
   "cell_type": "code",
   "execution_count": 238,
   "id": "f5c0b6bb-fc0b-4f72-96a7-d5849c24cbba",
   "metadata": {
    "dotnet_interactive": {
     "language": "csharp"
    },
    "polyglot_notebook": {
     "kernelName": "csharp"
    },
    "vscode": {
     "languageId": "polyglot-notebook"
    }
   },
   "outputs": [
    {
     "data": {
      "text/plain": [
       "sentiment (binary)\n",
       "0     2381\n",
       "1     2381\n",
       "10    2381\n",
       "Name: count, dtype: int64"
      ]
     },
     "execution_count": 238,
     "metadata": {},
     "output_type": "execute_result"
    }
   ],
   "source": [
    "Y_train_smote.value_counts()"
   ]
  },
  {
   "cell_type": "code",
   "execution_count": 239,
   "id": "2f062473-376f-4972-9466-73351e489883",
   "metadata": {
    "dotnet_interactive": {
     "language": "csharp"
    },
    "polyglot_notebook": {
     "kernelName": "csharp"
    },
    "vscode": {
     "languageId": "polyglot-notebook"
    }
   },
   "outputs": [
    {
     "name": "stdout",
     "output_type": "stream",
     "text": [
      "(6123, 3000) (6123,)\n"
     ]
    }
   ],
   "source": [
    "from imblearn.over_sampling import SMOTE\n",
    "smote=SMOTE()\n",
    "vectorized_X_train_smote_category,Z_train_smote=smote.fit_resample(vectorized_X_train,Z_train)\n",
    "print(vectorized_X_train_smote_category.shape,Z_train_smote.shape)"
   ]
  },
  {
   "cell_type": "code",
   "execution_count": 240,
   "id": "846d05d4-8d01-4af2-a241-a078a39d06db",
   "metadata": {
    "dotnet_interactive": {
     "language": "csharp"
    },
    "polyglot_notebook": {
     "kernelName": "csharp"
    },
    "vscode": {
     "languageId": "polyglot-notebook"
    }
   },
   "outputs": [
    {
     "data": {
      "text/plain": [
       "category (binary)\n",
       "10    2041\n",
       "0     2041\n",
       "1     2041\n",
       "Name: count, dtype: int64"
      ]
     },
     "execution_count": 240,
     "metadata": {},
     "output_type": "execute_result"
    }
   ],
   "source": [
    "Z_train_smote.value_counts()"
   ]
  },
  {
   "cell_type": "code",
   "execution_count": 241,
   "id": "75c9a2a8-efe9-4477-a458-5cfff4337047",
   "metadata": {
    "dotnet_interactive": {
     "language": "csharp"
    },
    "polyglot_notebook": {
     "kernelName": "csharp"
    },
    "vscode": {
     "languageId": "polyglot-notebook"
    }
   },
   "outputs": [
    {
     "data": {
      "image/png": "[encoded data removed]",
      "text/plain": [
       "<Figure size 640x480 with 1 Axes>"
      ]
     },
     "metadata": {},
     "output_type": "display_data"
    }
   ],
   "source": [
    "plt.pie(np.array([Y_train_smote.value_counts()[0],Y_train_smote.value_counts()[1],Y_train_smote.value_counts()[10]]),labels=['positive','negative','neutral'])\n",
    "plt.show()"
   ]
  },
  {
   "cell_type": "code",
   "execution_count": 242,
   "id": "dec4017b-ffbe-42af-aa23-c94c18da5e66",
   "metadata": {
    "dotnet_interactive": {
     "language": "csharp"
    },
    "polyglot_notebook": {
     "kernelName": "csharp"
    },
    "vscode": {
     "languageId": "polyglot-notebook"
    }
   },
   "outputs": [
    {
     "data": {
      "image/png": "[encoded data removed]",
      "text/plain": [
       "<Figure size 640x480 with 1 Axes>"
      ]
     },
     "metadata": {},
     "output_type": "display_data"
    }
   ],
   "source": [
    "plt.pie(np.array([Z_train_smote.value_counts()[0],Z_train_smote.value_counts()[1],Z_train_smote.value_counts()[10]]),labels=['claim','service','policy'])\n",
    "plt.show()"
   ]
  },
  {
   "cell_type": "markdown",
   "id": "a888e07a-d56f-4784-8be0-81a55cb72ce6",
   "metadata": {},
   "source": [
    "##### using this dataset for train & test the sentiment models"
   ]
  },
  {
   "cell_type": "code",
   "execution_count": 243,
   "id": "3aa046c8-a42e-476e-b0d5-5406390e02c9",
   "metadata": {
    "dotnet_interactive": {
     "language": "csharp"
    },
    "polyglot_notebook": {
     "kernelName": "csharp"
    },
    "vscode": {
     "languageId": "polyglot-notebook"
    }
   },
   "outputs": [
    {
     "data": {
      "text/plain": [
       "<Compressed Sparse Row sparse matrix of dtype 'float64'\n",
       "\twith 359243 stored elements and shape (7143, 3000)>"
      ]
     },
     "execution_count": 243,
     "metadata": {},
     "output_type": "execute_result"
    }
   ],
   "source": [
    "vectorized_X_train_smote"
   ]
  },
  {
   "cell_type": "code",
   "execution_count": 244,
   "id": "35a502be-403b-4c7e-8fb7-dcefc3485a8c",
   "metadata": {
    "dotnet_interactive": {
     "language": "csharp"
    },
    "polyglot_notebook": {
     "kernelName": "csharp"
    },
    "vscode": {
     "languageId": "polyglot-notebook"
    }
   },
   "outputs": [
    {
     "data": {
      "text/plain": [
       "0        0\n",
       "1        1\n",
       "2        0\n",
       "3       10\n",
       "4        1\n",
       "        ..\n",
       "7138    10\n",
       "7139    10\n",
       "7140    10\n",
       "7141    10\n",
       "7142    10\n",
       "Name: sentiment (binary), Length: 7143, dtype: int64"
      ]
     },
     "execution_count": 244,
     "metadata": {},
     "output_type": "execute_result"
    }
   ],
   "source": [
    "Y_train_smote"
   ]
  },
  {
   "cell_type": "code",
   "execution_count": 245,
   "id": "24d6f928-95b2-4752-9a8b-24963eb5e62a",
   "metadata": {
    "dotnet_interactive": {
     "language": "csharp"
    },
    "polyglot_notebook": {
     "kernelName": "csharp"
    },
    "vscode": {
     "languageId": "polyglot-notebook"
    }
   },
   "outputs": [
    {
     "data": {
      "text/plain": [
       "<Compressed Sparse Row sparse matrix of dtype 'float64'\n",
       "\twith 70321 stored elements and shape (1495, 3000)>"
      ]
     },
     "execution_count": 245,
     "metadata": {},
     "output_type": "execute_result"
    }
   ],
   "source": [
    "vectorized_X_test"
   ]
  },
  {
   "cell_type": "code",
   "execution_count": 246,
   "id": "4a89f8e8-6e7c-412c-a49f-2179060dab43",
   "metadata": {
    "dotnet_interactive": {
     "language": "csharp"
    },
    "polyglot_notebook": {
     "kernelName": "csharp"
    },
    "vscode": {
     "languageId": "polyglot-notebook"
    }
   },
   "outputs": [
    {
     "data": {
      "text/plain": [
       "6063    10\n",
       "6287    10\n",
       "7239     0\n",
       "3766     1\n",
       "1620     0\n",
       "        ..\n",
       "631      1\n",
       "571      1\n",
       "1852     0\n",
       "1488    10\n",
       "5288     1\n",
       "Name: sentiment (binary), Length: 1495, dtype: int64"
      ]
     },
     "execution_count": 246,
     "metadata": {},
     "output_type": "execute_result"
    }
   ],
   "source": [
    "Y_test"
   ]
  },
  {
   "cell_type": "markdown",
   "id": "acdbb10d-3344-4f24-9d4b-8e02136aa37f",
   "metadata": {},
   "source": [
    "##### using this dataset for train & test the models for categorization"
   ]
  },
  {
   "cell_type": "code",
   "execution_count": 247,
   "id": "8fcff696-debe-418a-95b3-cc889438e1e8",
   "metadata": {
    "dotnet_interactive": {
     "language": "csharp"
    },
    "polyglot_notebook": {
     "kernelName": "csharp"
    },
    "vscode": {
     "languageId": "polyglot-notebook"
    }
   },
   "outputs": [
    {
     "data": {
      "text/plain": [
       "<Compressed Sparse Row sparse matrix of dtype 'float64'\n",
       "\twith 288572 stored elements and shape (6123, 3000)>"
      ]
     },
     "execution_count": 247,
     "metadata": {},
     "output_type": "execute_result"
    }
   ],
   "source": [
    "vectorized_X_train_smote_category"
   ]
  },
  {
   "cell_type": "code",
   "execution_count": 248,
   "id": "2247eed2-e173-4107-8f5c-d6f4dfc59610",
   "metadata": {
    "dotnet_interactive": {
     "language": "csharp"
    },
    "polyglot_notebook": {
     "kernelName": "csharp"
    },
    "vscode": {
     "languageId": "polyglot-notebook"
    }
   },
   "outputs": [
    {
     "data": {
      "text/plain": [
       "0       10\n",
       "1        0\n",
       "2        1\n",
       "3        1\n",
       "4        0\n",
       "        ..\n",
       "6118     1\n",
       "6119     1\n",
       "6120     1\n",
       "6121     1\n",
       "6122     1\n",
       "Name: category (binary), Length: 6123, dtype: int64"
      ]
     },
     "execution_count": 248,
     "metadata": {},
     "output_type": "execute_result"
    }
   ],
   "source": [
    "Z_train_smote"
   ]
  },
  {
   "cell_type": "code",
   "execution_count": 249,
   "id": "4b815abc-084e-471b-b358-3482f72315e7",
   "metadata": {
    "dotnet_interactive": {
     "language": "csharp"
    },
    "polyglot_notebook": {
     "kernelName": "csharp"
    },
    "vscode": {
     "languageId": "polyglot-notebook"
    }
   },
   "outputs": [
    {
     "data": {
      "text/plain": [
       "<Compressed Sparse Row sparse matrix of dtype 'float64'\n",
       "\twith 70321 stored elements and shape (1495, 3000)>"
      ]
     },
     "execution_count": 249,
     "metadata": {},
     "output_type": "execute_result"
    }
   ],
   "source": [
    "vectorized_X_test"
   ]
  },
  {
   "cell_type": "code",
   "execution_count": 250,
   "id": "4e855e6e-ed63-44fe-85d9-c734ef04d9cf",
   "metadata": {
    "dotnet_interactive": {
     "language": "csharp"
    },
    "polyglot_notebook": {
     "kernelName": "csharp"
    },
    "vscode": {
     "languageId": "polyglot-notebook"
    }
   },
   "outputs": [
    {
     "data": {
      "text/plain": [
       "6063     1\n",
       "6287     1\n",
       "7239     1\n",
       "3766    10\n",
       "1620     0\n",
       "        ..\n",
       "631      0\n",
       "571      0\n",
       "1852     0\n",
       "1488     0\n",
       "5288     1\n",
       "Name: category (binary), Length: 1495, dtype: int64"
      ]
     },
     "execution_count": 250,
     "metadata": {},
     "output_type": "execute_result"
    }
   ],
   "source": [
    "Z_test"
   ]
  },
  {
   "cell_type": "markdown",
   "id": "b0607d8b-55da-4c25-95d9-310a9aa0f1fe",
   "metadata": {},
   "source": [
    "## Model Training & Evaluation "
   ]
  },
  {
   "cell_type": "code",
   "execution_count": 251,
   "id": "c260f91e-acfa-47dd-ad53-a19013643e81",
   "metadata": {},
   "outputs": [],
   "source": [
    "from sklearn.model_selection import GridSearchCV"
   ]
  },
  {
   "cell_type": "code",
   "execution_count": 252,
   "id": "e575c1fa-7d56-4ae2-a07d-8f9fa2d821f7",
   "metadata": {
    "dotnet_interactive": {
     "language": "csharp"
    },
    "polyglot_notebook": {
     "kernelName": "csharp"
    },
    "vscode": {
     "languageId": "polyglot-notebook"
    }
   },
   "outputs": [],
   "source": [
    "from sklearn.linear_model import LogisticRegression\n",
    "from sklearn.naive_bayes import MultinomialNB\n",
    "from sklearn.ensemble import RandomForestClassifier\n",
    "from sklearn.tree import DecisionTreeClassifier\n",
    "from sklearn.svm import SVC"
   ]
  },
  {
   "cell_type": "markdown",
   "id": "3adbcb5f-6c68-4e4a-a8b3-0cfab8e482b6",
   "metadata": {},
   "source": [
    "### Model Training & Evaluation for Sentiment"
   ]
  },
  {
   "cell_type": "code",
   "execution_count": 253,
   "id": "9ee9877c-d75e-415a-bbf5-1706b0a0794a",
   "metadata": {
    "dotnet_interactive": {
     "language": "csharp"
    },
    "polyglot_notebook": {
     "kernelName": "csharp"
    },
    "vscode": {
     "languageId": "polyglot-notebook"
    }
   },
   "outputs": [],
   "source": [
    "from sklearn.metrics import accuracy_score, precision_score, recall_score, f1_score\n",
    "\n",
    "def training_scores(y_act, y_pred):\n",
    "    acc = round(accuracy_score(y_act, y_pred), 3)\n",
    "    prec = round(precision_score(y_act, y_pred, average='weighted'), 3)  # Specify average\n",
    "    rec = round(recall_score(y_act, y_pred, average='weighted'), 3)  # Specify average\n",
    "    f1 = round(f1_score(y_act, y_pred, average='weighted'), 3)  # Specify average\n",
    "    \n",
    "    print(f'Training Scores:\\n\\tAccuracy: {acc}\\n\\tPrecision: {prec}\\n\\tRecall: {rec}\\n\\tF1-Score: {f1}\\n')\n",
    "\n",
    "def validation_scores(y_act, y_pred):\n",
    "    acc = round(accuracy_score(y_act, y_pred), 3)\n",
    "    prec = round(precision_score(y_act, y_pred, average='weighted'), 3)  # Specify average\n",
    "    rec = round(recall_score(y_act, y_pred, average='weighted'), 3)  # Specify average\n",
    "    f1 = round(f1_score(y_act, y_pred, average='weighted'), 3)  # Specify average\n",
    "    \n",
    "    print(f'Testing Scores:\\n\\tAccuracy: {acc}\\n\\tPrecision: {prec}\\n\\tRecall: {rec}\\n\\tF1-Score: {f1}\\n')\n"
   ]
  },
  {
   "cell_type": "markdown",
   "id": "56f5a148-998b-499c-9c72-c30dadacf86a",
   "metadata": {},
   "source": [
    "##### logistic regression"
   ]
  },
  {
   "cell_type": "code",
   "execution_count": 254,
   "id": "1bcddbac-bd2f-4152-b0c8-4c97426a73cf",
   "metadata": {
    "dotnet_interactive": {
     "language": "csharp"
    },
    "polyglot_notebook": {
     "kernelName": "csharp"
    },
    "vscode": {
     "languageId": "polyglot-notebook"
    }
   },
   "outputs": [
    {
     "name": "stdout",
     "output_type": "stream",
     "text": [
      "Best parameters for Logistic Regression: {'C': 10, 'solver': 'liblinear'}\n"
     ]
    }
   ],
   "source": [
    "# Define parameter grid\n",
    "param_grid_lr = {'C': [0.01, 0.1, 1, 10, 100], 'solver': ['liblinear', 'lbfgs']}\n",
    "\n",
    "# Perform Grid Search\n",
    "grid_search_lr = GridSearchCV(LogisticRegression(), param_grid_lr, cv=3, scoring='accuracy', n_jobs=-1)\n",
    "grid_search_lr.fit(vectorized_X_train_smote, Y_train_smote)\n",
    "\n",
    "# Get the best parameters\n",
    "best_params_lr = grid_search_lr.best_params_\n",
    "print(f\"Best parameters for Logistic Regression: {best_params_lr}\")"
   ]
  },
  {
   "cell_type": "code",
   "execution_count": 255,
   "id": "a2ca5730-42c1-46b4-9c79-46ee89eab3ec",
   "metadata": {
    "dotnet_interactive": {
     "language": "csharp"
    },
    "polyglot_notebook": {
     "kernelName": "csharp"
    },
    "vscode": {
     "languageId": "polyglot-notebook"
    }
   },
   "outputs": [
    {
     "data": {
      "text/html": [
       "<style>#sk-container-id-5 {\n",
       "  /* Definition of color scheme common for light and dark mode */\n",
       "  --sklearn-color-text: black;\n",
       "  --sklearn-color-line: gray;\n",
       "  /* Definition of color scheme for unfitted estimators */\n",
       "  --sklearn-color-unfitted-level-0: #fff5e6;\n",
       "  --sklearn-color-unfitted-level-1: #f6e4d2;\n",
       "  --sklearn-color-unfitted-level-2: #ffe0b3;\n",
       "  --sklearn-color-unfitted-level-3: chocolate;\n",
       "  /* Definition of color scheme for fitted estimators */\n",
       "  --sklearn-color-fitted-level-0: #f0f8ff;\n",
       "  --sklearn-color-fitted-level-1: #d4ebff;\n",
       "  --sklearn-color-fitted-level-2: #b3dbfd;\n",
       "  --sklearn-color-fitted-level-3: cornflowerblue;\n",
       "\n",
       "  /* Specific color for light theme */\n",
       "  --sklearn-color-text-on-default-background: var(--sg-text-color, var(--theme-code-foreground, var(--jp-content-font-color1, black)));\n",
       "  --sklearn-color-background: var(--sg-background-color, var(--theme-background, var(--jp-layout-color0, white)));\n",
       "  --sklearn-color-border-box: var(--sg-text-color, var(--theme-code-foreground, var(--jp-content-font-color1, black)));\n",
       "  --sklearn-color-icon: #696969;\n",
       "\n",
       "  @media (prefers-color-scheme: dark) {\n",
       "    /* Redefinition of color scheme for dark theme */\n",
       "    --sklearn-color-text-on-default-background: var(--sg-text-color, var(--theme-code-foreground, var(--jp-content-font-color1, white)));\n",
       "    --sklearn-color-background: var(--sg-background-color, var(--theme-background, var(--jp-layout-color0, #111)));\n",
       "    --sklearn-color-border-box: var(--sg-text-color, var(--theme-code-foreground, var(--jp-content-font-color1, white)));\n",
       "    --sklearn-color-icon: #878787;\n",
       "  }\n",
       "}\n",
       "\n",
       "#sk-container-id-5 {\n",
       "  color: var(--sklearn-color-text);\n",
       "}\n",
       "\n",
       "#sk-container-id-5 pre {\n",
       "  padding: 0;\n",
       "}\n",
       "\n",
       "#sk-container-id-5 input.sk-hidden--visually {\n",
       "  border: 0;\n",
       "  clip: rect(1px 1px 1px 1px);\n",
       "  clip: rect(1px, 1px, 1px, 1px);\n",
       "  height: 1px;\n",
       "  margin: -1px;\n",
       "  overflow: hidden;\n",
       "  padding: 0;\n",
       "  position: absolute;\n",
       "  width: 1px;\n",
       "}\n",
       "\n",
       "#sk-container-id-5 div.sk-dashed-wrapped {\n",
       "  border: 1px dashed var(--sklearn-color-line);\n",
       "  margin: 0 0.4em 0.5em 0.4em;\n",
       "  box-sizing: border-box;\n",
       "  padding-bottom: 0.4em;\n",
       "  background-color: var(--sklearn-color-background);\n",
       "}\n",
       "\n",
       "#sk-container-id-5 div.sk-container {\n",
       "  /* jupyter's `normalize.less` sets `[hidden] { display: none; }`\n",
       "     but bootstrap.min.css set `[hidden] { display: none !important; }`\n",
       "     so we also need the `!important` here to be able to override the\n",
       "     default hidden behavior on the sphinx rendered scikit-learn.org.\n",
       "     See: https://github.com/scikit-learn/scikit-learn/issues/21755 */\n",
       "  display: inline-block !important;\n",
       "  position: relative;\n",
       "}\n",
       "\n",
       "#sk-container-id-5 div.sk-text-repr-fallback {\n",
       "  display: none;\n",
       "}\n",
       "\n",
       "div.sk-parallel-item,\n",
       "div.sk-serial,\n",
       "div.sk-item {\n",
       "  /* draw centered vertical line to link estimators */\n",
       "  background-image: linear-gradient(var(--sklearn-color-text-on-default-background), var(--sklearn-color-text-on-default-background));\n",
       "  background-size: 2px 100%;\n",
       "  background-repeat: no-repeat;\n",
       "  background-position: center center;\n",
       "}\n",
       "\n",
       "/* Parallel-specific style estimator block */\n",
       "\n",
       "#sk-container-id-5 div.sk-parallel-item::after {\n",
       "  content: \"\";\n",
       "  width: 100%;\n",
       "  border-bottom: 2px solid var(--sklearn-color-text-on-default-background);\n",
       "  flex-grow: 1;\n",
       "}\n",
       "\n",
       "#sk-container-id-5 div.sk-parallel {\n",
       "  display: flex;\n",
       "  align-items: stretch;\n",
       "  justify-content: center;\n",
       "  background-color: var(--sklearn-color-background);\n",
       "  position: relative;\n",
       "}\n",
       "\n",
       "#sk-container-id-5 div.sk-parallel-item {\n",
       "  display: flex;\n",
       "  flex-direction: column;\n",
       "}\n",
       "\n",
       "#sk-container-id-5 div.sk-parallel-item:first-child::after {\n",
       "  align-self: flex-end;\n",
       "  width: 50%;\n",
       "}\n",
       "\n",
       "#sk-container-id-5 div.sk-parallel-item:last-child::after {\n",
       "  align-self: flex-start;\n",
       "  width: 50%;\n",
       "}\n",
       "\n",
       "#sk-container-id-5 div.sk-parallel-item:only-child::after {\n",
       "  width: 0;\n",
       "}\n",
       "\n",
       "/* Serial-specific style estimator block */\n",
       "\n",
       "#sk-container-id-5 div.sk-serial {\n",
       "  display: flex;\n",
       "  flex-direction: column;\n",
       "  align-items: center;\n",
       "  background-color: var(--sklearn-color-background);\n",
       "  padding-right: 1em;\n",
       "  padding-left: 1em;\n",
       "}\n",
       "\n",
       "\n",
       "/* Toggleable style: style used for estimator/Pipeline/ColumnTransformer box that is\n",
       "clickable and can be expanded/collapsed.\n",
       "- Pipeline and ColumnTransformer use this feature and define the default style\n",
       "- Estimators will overwrite some part of the style using the `sk-estimator` class\n",
       "*/\n",
       "\n",
       "/* Pipeline and ColumnTransformer style (default) */\n",
       "\n",
       "#sk-container-id-5 div.sk-toggleable {\n",
       "  /* Default theme specific background. It is overwritten whether we have a\n",
       "  specific estimator or a Pipeline/ColumnTransformer */\n",
       "  background-color: var(--sklearn-color-background);\n",
       "}\n",
       "\n",
       "/* Toggleable label */\n",
       "#sk-container-id-5 label.sk-toggleable__label {\n",
       "  cursor: pointer;\n",
       "  display: block;\n",
       "  width: 100%;\n",
       "  margin-bottom: 0;\n",
       "  padding: 0.5em;\n",
       "  box-sizing: border-box;\n",
       "  text-align: center;\n",
       "}\n",
       "\n",
       "#sk-container-id-5 label.sk-toggleable__label-arrow:before {\n",
       "  /* Arrow on the left of the label */\n",
       "  content: \"▸\";\n",
       "  float: left;\n",
       "  margin-right: 0.25em;\n",
       "  color: var(--sklearn-color-icon);\n",
       "}\n",
       "\n",
       "#sk-container-id-5 label.sk-toggleable__label-arrow:hover:before {\n",
       "  color: var(--sklearn-color-text);\n",
       "}\n",
       "\n",
       "/* Toggleable content - dropdown */\n",
       "\n",
       "#sk-container-id-5 div.sk-toggleable__content {\n",
       "  max-height: 0;\n",
       "  max-width: 0;\n",
       "  overflow: hidden;\n",
       "  text-align: left;\n",
       "  /* unfitted */\n",
       "  background-color: var(--sklearn-color-unfitted-level-0);\n",
       "}\n",
       "\n",
       "#sk-container-id-5 div.sk-toggleable__content.fitted {\n",
       "  /* fitted */\n",
       "  background-color: var(--sklearn-color-fitted-level-0);\n",
       "}\n",
       "\n",
       "#sk-container-id-5 div.sk-toggleable__content pre {\n",
       "  margin: 0.2em;\n",
       "  border-radius: 0.25em;\n",
       "  color: var(--sklearn-color-text);\n",
       "  /* unfitted */\n",
       "  background-color: var(--sklearn-color-unfitted-level-0);\n",
       "}\n",
       "\n",
       "#sk-container-id-5 div.sk-toggleable__content.fitted pre {\n",
       "  /* unfitted */\n",
       "  background-color: var(--sklearn-color-fitted-level-0);\n",
       "}\n",
       "\n",
       "#sk-container-id-5 input.sk-toggleable__control:checked~div.sk-toggleable__content {\n",
       "  /* Expand drop-down */\n",
       "  max-height: 200px;\n",
       "  max-width: 100%;\n",
       "  overflow: auto;\n",
       "}\n",
       "\n",
       "#sk-container-id-5 input.sk-toggleable__control:checked~label.sk-toggleable__label-arrow:before {\n",
       "  content: \"▾\";\n",
       "}\n",
       "\n",
       "/* Pipeline/ColumnTransformer-specific style */\n",
       "\n",
       "#sk-container-id-5 div.sk-label input.sk-toggleable__control:checked~label.sk-toggleable__label {\n",
       "  color: var(--sklearn-color-text);\n",
       "  background-color: var(--sklearn-color-unfitted-level-2);\n",
       "}\n",
       "\n",
       "#sk-container-id-5 div.sk-label.fitted input.sk-toggleable__control:checked~label.sk-toggleable__label {\n",
       "  background-color: var(--sklearn-color-fitted-level-2);\n",
       "}\n",
       "\n",
       "/* Estimator-specific style */\n",
       "\n",
       "/* Colorize estimator box */\n",
       "#sk-container-id-5 div.sk-estimator input.sk-toggleable__control:checked~label.sk-toggleable__label {\n",
       "  /* unfitted */\n",
       "  background-color: var(--sklearn-color-unfitted-level-2);\n",
       "}\n",
       "\n",
       "#sk-container-id-5 div.sk-estimator.fitted input.sk-toggleable__control:checked~label.sk-toggleable__label {\n",
       "  /* fitted */\n",
       "  background-color: var(--sklearn-color-fitted-level-2);\n",
       "}\n",
       "\n",
       "#sk-container-id-5 div.sk-label label.sk-toggleable__label,\n",
       "#sk-container-id-5 div.sk-label label {\n",
       "  /* The background is the default theme color */\n",
       "  color: var(--sklearn-color-text-on-default-background);\n",
       "}\n",
       "\n",
       "/* On hover, darken the color of the background */\n",
       "#sk-container-id-5 div.sk-label:hover label.sk-toggleable__label {\n",
       "  color: var(--sklearn-color-text);\n",
       "  background-color: var(--sklearn-color-unfitted-level-2);\n",
       "}\n",
       "\n",
       "/* Label box, darken color on hover, fitted */\n",
       "#sk-container-id-5 div.sk-label.fitted:hover label.sk-toggleable__label.fitted {\n",
       "  color: var(--sklearn-color-text);\n",
       "  background-color: var(--sklearn-color-fitted-level-2);\n",
       "}\n",
       "\n",
       "/* Estimator label */\n",
       "\n",
       "#sk-container-id-5 div.sk-label label {\n",
       "  font-family: monospace;\n",
       "  font-weight: bold;\n",
       "  display: inline-block;\n",
       "  line-height: 1.2em;\n",
       "}\n",
       "\n",
       "#sk-container-id-5 div.sk-label-container {\n",
       "  text-align: center;\n",
       "}\n",
       "\n",
       "/* Estimator-specific */\n",
       "#sk-container-id-5 div.sk-estimator {\n",
       "  font-family: monospace;\n",
       "  border: 1px dotted var(--sklearn-color-border-box);\n",
       "  border-radius: 0.25em;\n",
       "  box-sizing: border-box;\n",
       "  margin-bottom: 0.5em;\n",
       "  /* unfitted */\n",
       "  background-color: var(--sklearn-color-unfitted-level-0);\n",
       "}\n",
       "\n",
       "#sk-container-id-5 div.sk-estimator.fitted {\n",
       "  /* fitted */\n",
       "  background-color: var(--sklearn-color-fitted-level-0);\n",
       "}\n",
       "\n",
       "/* on hover */\n",
       "#sk-container-id-5 div.sk-estimator:hover {\n",
       "  /* unfitted */\n",
       "  background-color: var(--sklearn-color-unfitted-level-2);\n",
       "}\n",
       "\n",
       "#sk-container-id-5 div.sk-estimator.fitted:hover {\n",
       "  /* fitted */\n",
       "  background-color: var(--sklearn-color-fitted-level-2);\n",
       "}\n",
       "\n",
       "/* Specification for estimator info (e.g. \"i\" and \"?\") */\n",
       "\n",
       "/* Common style for \"i\" and \"?\" */\n",
       "\n",
       ".sk-estimator-doc-link,\n",
       "a:link.sk-estimator-doc-link,\n",
       "a:visited.sk-estimator-doc-link {\n",
       "  float: right;\n",
       "  font-size: smaller;\n",
       "  line-height: 1em;\n",
       "  font-family: monospace;\n",
       "  background-color: var(--sklearn-color-background);\n",
       "  border-radius: 1em;\n",
       "  height: 1em;\n",
       "  width: 1em;\n",
       "  text-decoration: none !important;\n",
       "  margin-left: 1ex;\n",
       "  /* unfitted */\n",
       "  border: var(--sklearn-color-unfitted-level-1) 1pt solid;\n",
       "  color: var(--sklearn-color-unfitted-level-1);\n",
       "}\n",
       "\n",
       ".sk-estimator-doc-link.fitted,\n",
       "a:link.sk-estimator-doc-link.fitted,\n",
       "a:visited.sk-estimator-doc-link.fitted {\n",
       "  /* fitted */\n",
       "  border: var(--sklearn-color-fitted-level-1) 1pt solid;\n",
       "  color: var(--sklearn-color-fitted-level-1);\n",
       "}\n",
       "\n",
       "/* On hover */\n",
       "div.sk-estimator:hover .sk-estimator-doc-link:hover,\n",
       ".sk-estimator-doc-link:hover,\n",
       "div.sk-label-container:hover .sk-estimator-doc-link:hover,\n",
       ".sk-estimator-doc-link:hover {\n",
       "  /* unfitted */\n",
       "  background-color: var(--sklearn-color-unfitted-level-3);\n",
       "  color: var(--sklearn-color-background);\n",
       "  text-decoration: none;\n",
       "}\n",
       "\n",
       "div.sk-estimator.fitted:hover .sk-estimator-doc-link.fitted:hover,\n",
       ".sk-estimator-doc-link.fitted:hover,\n",
       "div.sk-label-container:hover .sk-estimator-doc-link.fitted:hover,\n",
       ".sk-estimator-doc-link.fitted:hover {\n",
       "  /* fitted */\n",
       "  background-color: var(--sklearn-color-fitted-level-3);\n",
       "  color: var(--sklearn-color-background);\n",
       "  text-decoration: none;\n",
       "}\n",
       "\n",
       "/* Span, style for the box shown on hovering the info icon */\n",
       ".sk-estimator-doc-link span {\n",
       "  display: none;\n",
       "  z-index: 9999;\n",
       "  position: relative;\n",
       "  font-weight: normal;\n",
       "  right: .2ex;\n",
       "  padding: .5ex;\n",
       "  margin: .5ex;\n",
       "  width: min-content;\n",
       "  min-width: 20ex;\n",
       "  max-width: 50ex;\n",
       "  color: var(--sklearn-color-text);\n",
       "  box-shadow: 2pt 2pt 4pt #999;\n",
       "  /* unfitted */\n",
       "  background: var(--sklearn-color-unfitted-level-0);\n",
       "  border: .5pt solid var(--sklearn-color-unfitted-level-3);\n",
       "}\n",
       "\n",
       ".sk-estimator-doc-link.fitted span {\n",
       "  /* fitted */\n",
       "  background: var(--sklearn-color-fitted-level-0);\n",
       "  border: var(--sklearn-color-fitted-level-3);\n",
       "}\n",
       "\n",
       ".sk-estimator-doc-link:hover span {\n",
       "  display: block;\n",
       "}\n",
       "\n",
       "/* \"?\"-specific style due to the `<a>` HTML tag */\n",
       "\n",
       "#sk-container-id-5 a.estimator_doc_link {\n",
       "  float: right;\n",
       "  font-size: 1rem;\n",
       "  line-height: 1em;\n",
       "  font-family: monospace;\n",
       "  background-color: var(--sklearn-color-background);\n",
       "  border-radius: 1rem;\n",
       "  height: 1rem;\n",
       "  width: 1rem;\n",
       "  text-decoration: none;\n",
       "  /* unfitted */\n",
       "  color: var(--sklearn-color-unfitted-level-1);\n",
       "  border: var(--sklearn-color-unfitted-level-1) 1pt solid;\n",
       "}\n",
       "\n",
       "#sk-container-id-5 a.estimator_doc_link.fitted {\n",
       "  /* fitted */\n",
       "  border: var(--sklearn-color-fitted-level-1) 1pt solid;\n",
       "  color: var(--sklearn-color-fitted-level-1);\n",
       "}\n",
       "\n",
       "/* On hover */\n",
       "#sk-container-id-5 a.estimator_doc_link:hover {\n",
       "  /* unfitted */\n",
       "  background-color: var(--sklearn-color-unfitted-level-3);\n",
       "  color: var(--sklearn-color-background);\n",
       "  text-decoration: none;\n",
       "}\n",
       "\n",
       "#sk-container-id-5 a.estimator_doc_link.fitted:hover {\n",
       "  /* fitted */\n",
       "  background-color: var(--sklearn-color-fitted-level-3);\n",
       "}\n",
       "</style><div id=\"sk-container-id-5\" class=\"sk-top-container\"><div class=\"sk-text-repr-fallback\"><pre>LogisticRegression(C=10, solver=&#x27;liblinear&#x27;)</pre><b>In a Jupyter environment, please rerun this cell to show the HTML representation or trust the notebook. <br />On GitHub, the HTML representation is unable to render, please try loading this page with nbviewer.org.</b></div><div class=\"sk-container\" hidden><div class=\"sk-item\"><div class=\"sk-estimator fitted sk-toggleable\"><input class=\"sk-toggleable__control sk-hidden--visually\" id=\"sk-estimator-id-5\" type=\"checkbox\" checked><label for=\"sk-estimator-id-5\" class=\"sk-toggleable__label fitted sk-toggleable__label-arrow fitted\">&nbsp;&nbsp;LogisticRegression<a class=\"sk-estimator-doc-link fitted\" rel=\"noreferrer\" target=\"_blank\" href=\"https://scikit-learn.org/1.5/modules/generated/sklearn.linear_model.LogisticRegression.html\">?<span>Documentation for LogisticRegression</span></a><span class=\"sk-estimator-doc-link fitted\">i<span>Fitted</span></span></label><div class=\"sk-toggleable__content fitted\"><pre>LogisticRegression(C=10, solver=&#x27;liblinear&#x27;)</pre></div> </div></div></div></div>"
      ],
      "text/plain": [
       "LogisticRegression(C=10, solver='liblinear')"
      ]
     },
     "execution_count": 255,
     "metadata": {},
     "output_type": "execute_result"
    }
   ],
   "source": [
    "# Train with the best parameters\n",
    "lr = LogisticRegression(**best_params_lr)\n",
    "lr.fit(vectorized_X_train_smote, Y_train_smote)"
   ]
  },
  {
   "cell_type": "code",
   "execution_count": 256,
   "id": "a7b88ae9-f0e1-4451-8386-41a6fb98b97b",
   "metadata": {
    "dotnet_interactive": {
     "language": "csharp"
    },
    "polyglot_notebook": {
     "kernelName": "csharp"
    },
    "vscode": {
     "languageId": "polyglot-notebook"
    }
   },
   "outputs": [],
   "source": [
    "Y_train_predict=lr.predict(vectorized_X_train_smote)"
   ]
  },
  {
   "cell_type": "code",
   "execution_count": 257,
   "id": "c0ab1470-86fa-4d32-ac3c-3e87157fd539",
   "metadata": {},
   "outputs": [
    {
     "data": {
      "text/plain": [
       "array([ 0,  1,  0, ..., 10, 10, 10])"
      ]
     },
     "execution_count": 257,
     "metadata": {},
     "output_type": "execute_result"
    }
   ],
   "source": [
    "Y_train_predict"
   ]
  },
  {
   "cell_type": "code",
   "execution_count": 258,
   "id": "d5c2039e-c113-4d28-b32a-bc51ae7eb6b1",
   "metadata": {
    "dotnet_interactive": {
     "language": "csharp"
    },
    "polyglot_notebook": {
     "kernelName": "csharp"
    },
    "vscode": {
     "languageId": "polyglot-notebook"
    }
   },
   "outputs": [
    {
     "data": {
      "text/plain": [
       "0        0\n",
       "1        1\n",
       "2        0\n",
       "3       10\n",
       "4        1\n",
       "        ..\n",
       "7138    10\n",
       "7139    10\n",
       "7140    10\n",
       "7141    10\n",
       "7142    10\n",
       "Name: sentiment (binary), Length: 7143, dtype: int64"
      ]
     },
     "execution_count": 258,
     "metadata": {},
     "output_type": "execute_result"
    }
   ],
   "source": [
    "Y_train_smote"
   ]
  },
  {
   "cell_type": "code",
   "execution_count": 259,
   "id": "a5eee4d7-57cb-4e6c-8707-d93953f46824",
   "metadata": {
    "dotnet_interactive": {
     "language": "csharp"
    },
    "polyglot_notebook": {
     "kernelName": "csharp"
    },
    "vscode": {
     "languageId": "polyglot-notebook"
    }
   },
   "outputs": [
    {
     "name": "stdout",
     "output_type": "stream",
     "text": [
      "Training Scores:\n",
      "\tAccuracy: 0.99\n",
      "\tPrecision: 0.99\n",
      "\tRecall: 0.99\n",
      "\tF1-Score: 0.99\n",
      "\n"
     ]
    }
   ],
   "source": [
    "training_scores(Y_train_smote,Y_train_predict)"
   ]
  },
  {
   "cell_type": "code",
   "execution_count": 260,
   "id": "a1931b0c-1108-4b5c-b2eb-17af09e4463b",
   "metadata": {
    "dotnet_interactive": {
     "language": "csharp"
    },
    "polyglot_notebook": {
     "kernelName": "csharp"
    },
    "vscode": {
     "languageId": "polyglot-notebook"
    }
   },
   "outputs": [],
   "source": [
    "Y_test_predict=lr.predict(vectorized_X_test)"
   ]
  },
  {
   "cell_type": "code",
   "execution_count": 261,
   "id": "88597643-e604-4582-a72f-9c37a8dd833c",
   "metadata": {
    "dotnet_interactive": {
     "language": "csharp"
    },
    "polyglot_notebook": {
     "kernelName": "csharp"
    },
    "vscode": {
     "languageId": "polyglot-notebook"
    }
   },
   "outputs": [
    {
     "data": {
      "text/plain": [
       "array([10, 10,  0, ...,  0, 10,  1])"
      ]
     },
     "execution_count": 261,
     "metadata": {},
     "output_type": "execute_result"
    }
   ],
   "source": [
    "Y_test_predict"
   ]
  },
  {
   "cell_type": "code",
   "execution_count": 262,
   "id": "712c2e8c-54cd-4c5f-a351-e29f3adc7637",
   "metadata": {
    "dotnet_interactive": {
     "language": "csharp"
    },
    "polyglot_notebook": {
     "kernelName": "csharp"
    },
    "vscode": {
     "languageId": "polyglot-notebook"
    }
   },
   "outputs": [
    {
     "data": {
      "text/plain": [
       "6063    10\n",
       "6287    10\n",
       "7239     0\n",
       "3766     1\n",
       "1620     0\n",
       "        ..\n",
       "631      1\n",
       "571      1\n",
       "1852     0\n",
       "1488    10\n",
       "5288     1\n",
       "Name: sentiment (binary), Length: 1495, dtype: int64"
      ]
     },
     "execution_count": 262,
     "metadata": {},
     "output_type": "execute_result"
    }
   ],
   "source": [
    "Y_test"
   ]
  },
  {
   "cell_type": "code",
   "execution_count": 263,
   "id": "cbf44e65-04d8-46ed-9a40-b605bf6482b9",
   "metadata": {
    "dotnet_interactive": {
     "language": "csharp"
    },
    "polyglot_notebook": {
     "kernelName": "csharp"
    },
    "vscode": {
     "languageId": "polyglot-notebook"
    }
   },
   "outputs": [
    {
     "name": "stdout",
     "output_type": "stream",
     "text": [
      "Testing Scores:\n",
      "\tAccuracy: 0.912\n",
      "\tPrecision: 0.911\n",
      "\tRecall: 0.912\n",
      "\tF1-Score: 0.912\n",
      "\n"
     ]
    }
   ],
   "source": [
    "validation_scores(Y_test, Y_test_predict)"
   ]
  },
  {
   "cell_type": "markdown",
   "id": "12b42b24-bf15-4ac3-bc19-94893b818197",
   "metadata": {},
   "source": [
    "##### Naive Bayes"
   ]
  },
  {
   "cell_type": "code",
   "execution_count": 264,
   "id": "9b0bd238-0ee4-4c7b-89f8-38dfa996092d",
   "metadata": {
    "dotnet_interactive": {
     "language": "csharp"
    },
    "polyglot_notebook": {
     "kernelName": "csharp"
    },
    "vscode": {
     "languageId": "polyglot-notebook"
    }
   },
   "outputs": [
    {
     "name": "stdout",
     "output_type": "stream",
     "text": [
      "Best alpha for Naïve Bayes: 0.001\n",
      "Training Scores:\n",
      "\tAccuracy: 0.931\n",
      "\tPrecision: 0.933\n",
      "\tRecall: 0.931\n",
      "\tF1-Score: 0.931\n",
      "\n",
      "Testing Scores:\n",
      "\tAccuracy: 0.903\n",
      "\tPrecision: 0.909\n",
      "\tRecall: 0.903\n",
      "\tF1-Score: 0.904\n",
      "\n"
     ]
    }
   ],
   "source": [
    "# Define hyperparameter grid for Multinomial Naïve Bayes\n",
    "param_grid_nb = {'alpha': [0.001, 0.01, 0.1, 1, 10]}\n",
    "\n",
    "# Perform Grid Search\n",
    "grid_search_nb = GridSearchCV(MultinomialNB(), param_grid_nb, cv=3, scoring='accuracy', n_jobs=-1)\n",
    "grid_search_nb.fit(vectorized_X_train_smote, Y_train_smote)\n",
    "\n",
    "# Get the best hyperparameter\n",
    "best_alpha_nb = grid_search_nb.best_params_['alpha']\n",
    "print(f\"Best alpha for Naïve Bayes: {best_alpha_nb}\")\n",
    "\n",
    "mnb = MultinomialNB(alpha=best_alpha_nb)\n",
    "mnb.fit(vectorized_X_train_smote, Y_train_smote)\n",
    "\n",
    "Y_train_predict = mnb.predict(vectorized_X_train_smote)\n",
    "Y_test_predict = mnb.predict(vectorized_X_test)\n",
    "training_scores(Y_train_smote, Y_train_predict)\n",
    "validation_scores(Y_test, Y_test_predict)"
   ]
  },
  {
   "cell_type": "markdown",
   "id": "ca515fd4-690e-4acd-9be8-11fb88d6d2d4",
   "metadata": {},
   "source": [
    "##### Decision Tree"
   ]
  },
  {
   "cell_type": "code",
   "execution_count": 265,
   "id": "0f1d7731-ba94-4eee-8320-7071ea09fa94",
   "metadata": {
    "dotnet_interactive": {
     "language": "csharp"
    },
    "polyglot_notebook": {
     "kernelName": "csharp"
    },
    "vscode": {
     "languageId": "polyglot-notebook"
    }
   },
   "outputs": [
    {
     "name": "stdout",
     "output_type": "stream",
     "text": [
      "Best parameters for Decision Tree: {'max_depth': None, 'min_samples_leaf': 1, 'min_samples_split': 2}\n",
      "Training Scores:\n",
      "\tAccuracy: 1.0\n",
      "\tPrecision: 1.0\n",
      "\tRecall: 1.0\n",
      "\tF1-Score: 1.0\n",
      "\n",
      "Testing Scores:\n",
      "\tAccuracy: 0.845\n",
      "\tPrecision: 0.844\n",
      "\tRecall: 0.845\n",
      "\tF1-Score: 0.845\n",
      "\n"
     ]
    }
   ],
   "source": [
    "param_grid_dt = {\n",
    "    'max_depth': [5, 10, 20, None],\n",
    "    'min_samples_split': [2, 5, 10],\n",
    "    'min_samples_leaf': [1, 2, 5]\n",
    "}\n",
    "\n",
    "grid_search_dt = GridSearchCV(DecisionTreeClassifier(), param_grid_dt, cv=3, scoring='accuracy', n_jobs=-1)\n",
    "grid_search_dt.fit(vectorized_X_train_smote, Y_train_smote)\n",
    "\n",
    "best_params_dt = grid_search_dt.best_params_\n",
    "print(f\"Best parameters for Decision Tree: {best_params_dt}\")\n",
    "\n",
    "dt = DecisionTreeClassifier(**best_params_dt)\n",
    "dt.fit(vectorized_X_train_smote, Y_train_smote)\n",
    "\n",
    "\n",
    "Y_train_predict = dt.predict(vectorized_X_train_smote)\n",
    "Y_test_predict = dt.predict(vectorized_X_test)\n",
    "training_scores(Y_train_smote, Y_train_predict)\n",
    "validation_scores(Y_test, Y_test_predict)"
   ]
  },
  {
   "cell_type": "markdown",
   "id": "7683d0e0-992e-47f1-b15c-d363c818fc11",
   "metadata": {},
   "source": [
    "##### Random forest"
   ]
  },
  {
   "cell_type": "code",
   "execution_count": 266,
   "id": "867702a0-eaf0-4830-9038-b80901d5f940",
   "metadata": {
    "dotnet_interactive": {
     "language": "csharp"
    },
    "polyglot_notebook": {
     "kernelName": "csharp"
    },
    "vscode": {
     "languageId": "polyglot-notebook"
    }
   },
   "outputs": [
    {
     "name": "stdout",
     "output_type": "stream",
     "text": [
      "Best parameters for Random Forest: {'max_depth': None, 'min_samples_leaf': 1, 'min_samples_split': 10, 'n_estimators': 200}\n",
      "Training Scores:\n",
      "\tAccuracy: 0.999\n",
      "\tPrecision: 0.999\n",
      "\tRecall: 0.999\n",
      "\tF1-Score: 0.999\n",
      "\n",
      "Testing Scores:\n",
      "\tAccuracy: 0.91\n",
      "\tPrecision: 0.91\n",
      "\tRecall: 0.91\n",
      "\tF1-Score: 0.91\n",
      "\n"
     ]
    }
   ],
   "source": [
    "param_grid_rf = {\n",
    "    'n_estimators': [50, 100, 200],\n",
    "    'max_depth': [5, 10, 20, None],\n",
    "    'min_samples_split': [2, 5, 10],\n",
    "    'min_samples_leaf': [1, 2, 5]\n",
    "}\n",
    "\n",
    "grid_search_rf = GridSearchCV(RandomForestClassifier(), param_grid_rf, cv=3, scoring='accuracy', n_jobs=-1)\n",
    "grid_search_rf.fit(vectorized_X_train_smote, Y_train_smote)\n",
    "\n",
    "best_params_rf = grid_search_rf.best_params_\n",
    "print(f\"Best parameters for Random Forest: {best_params_rf}\")\n",
    "\n",
    "rf = RandomForestClassifier(**best_params_rf)\n",
    "rf.fit(vectorized_X_train_smote, Y_train_smote)\n",
    "Y_train_predict=rf.predict(vectorized_X_train_smote)\n",
    "Y_test_predict=rf.predict(vectorized_X_test)\n",
    "training_scores(Y_train_smote,Y_train_predict)\n",
    "validation_scores(Y_test, Y_test_predict)"
   ]
  },
  {
   "cell_type": "markdown",
   "id": "b3f8ad03-db86-4747-8adc-21d92d40bf20",
   "metadata": {},
   "source": [
    "##### Support vector machine"
   ]
  },
  {
   "cell_type": "code",
   "execution_count": 267,
   "id": "6a7eb964-32d0-41d4-8ae9-62be5d7a7115",
   "metadata": {
    "dotnet_interactive": {
     "language": "csharp"
    },
    "polyglot_notebook": {
     "kernelName": "csharp"
    },
    "vscode": {
     "languageId": "polyglot-notebook"
    }
   },
   "outputs": [
    {
     "name": "stdout",
     "output_type": "stream",
     "text": [
      "Best parameters for SVM: {'C': 10, 'gamma': 'scale', 'kernel': 'rbf'}\n",
      "Training Scores:\n",
      "\tAccuracy: 1.0\n",
      "\tPrecision: 1.0\n",
      "\tRecall: 1.0\n",
      "\tF1-Score: 1.0\n",
      "\n",
      "Testing Scores:\n",
      "\tAccuracy: 0.919\n",
      "\tPrecision: 0.918\n",
      "\tRecall: 0.919\n",
      "\tF1-Score: 0.919\n",
      "\n"
     ]
    }
   ],
   "source": [
    "param_grid_svm = {\n",
    "    'C': [0.1, 1, 10, 100],\n",
    "    'kernel': ['linear', 'rbf', 'poly'],\n",
    "    'gamma': ['scale', 'auto']\n",
    "}\n",
    "\n",
    "grid_search_svm = GridSearchCV(SVC(), param_grid_svm, cv=3, scoring='accuracy', n_jobs=-1)\n",
    "grid_search_svm.fit(vectorized_X_train_smote, Y_train_smote)\n",
    "\n",
    "best_params_svm = grid_search_svm.best_params_\n",
    "print(f\"Best parameters for SVM: {best_params_svm}\")\n",
    "\n",
    "svm = SVC(**best_params_svm)\n",
    "svm.fit(vectorized_X_train_smote, Y_train_smote)\n",
    "Y_train_predict=svm.predict(vectorized_X_train_smote)\n",
    "Y_test_predict=svm.predict(vectorized_X_test)\n",
    "training_scores(Y_train_smote,Y_train_predict)\n",
    "validation_scores(Y_test, Y_test_predict)"
   ]
  },
  {
   "cell_type": "markdown",
   "id": "aa9d50d1-59eb-41d7-95ad-8db1badb8750",
   "metadata": {},
   "source": [
    "### saving the model"
   ]
  },
  {
   "cell_type": "code",
   "execution_count": 268,
   "id": "f62a16bf-86d1-4e97-ac3c-c77dfca49dc6",
   "metadata": {
    "dotnet_interactive": {
     "language": "csharp"
    },
    "polyglot_notebook": {
     "kernelName": "csharp"
    },
    "vscode": {
     "languageId": "polyglot-notebook"
    }
   },
   "outputs": [],
   "source": [
    "import pickle\n",
    "with open ('../static/model/sentiment_model.pickle','wb') as file:\n",
    "    pickle.dump(mnb,file)"
   ]
  },
  {
   "cell_type": "markdown",
   "id": "ca42dc34-e608-488d-a60c-5f0c311a5f1b",
   "metadata": {},
   "source": [
    "### Model Training & Evaluation for Categorization"
   ]
  },
  {
   "cell_type": "markdown",
   "id": "05ef6855-9de7-455c-9ff8-e459908e715b",
   "metadata": {},
   "source": [
    "##### logistic regression"
   ]
  },
  {
   "cell_type": "code",
   "execution_count": 269,
   "id": "675bc726-ea3a-42a0-b7f5-988a3abfae96",
   "metadata": {
    "dotnet_interactive": {
     "language": "csharp"
    },
    "polyglot_notebook": {
     "kernelName": "csharp"
    },
    "vscode": {
     "languageId": "polyglot-notebook"
    }
   },
   "outputs": [
    {
     "name": "stdout",
     "output_type": "stream",
     "text": [
      "Best parameters for Logistic Regression: {'C': 100, 'solver': 'liblinear'}\n"
     ]
    },
    {
     "data": {
      "text/html": [
       "<style>#sk-container-id-6 {\n",
       "  /* Definition of color scheme common for light and dark mode */\n",
       "  --sklearn-color-text: black;\n",
       "  --sklearn-color-line: gray;\n",
       "  /* Definition of color scheme for unfitted estimators */\n",
       "  --sklearn-color-unfitted-level-0: #fff5e6;\n",
       "  --sklearn-color-unfitted-level-1: #f6e4d2;\n",
       "  --sklearn-color-unfitted-level-2: #ffe0b3;\n",
       "  --sklearn-color-unfitted-level-3: chocolate;\n",
       "  /* Definition of color scheme for fitted estimators */\n",
       "  --sklearn-color-fitted-level-0: #f0f8ff;\n",
       "  --sklearn-color-fitted-level-1: #d4ebff;\n",
       "  --sklearn-color-fitted-level-2: #b3dbfd;\n",
       "  --sklearn-color-fitted-level-3: cornflowerblue;\n",
       "\n",
       "  /* Specific color for light theme */\n",
       "  --sklearn-color-text-on-default-background: var(--sg-text-color, var(--theme-code-foreground, var(--jp-content-font-color1, black)));\n",
       "  --sklearn-color-background: var(--sg-background-color, var(--theme-background, var(--jp-layout-color0, white)));\n",
       "  --sklearn-color-border-box: var(--sg-text-color, var(--theme-code-foreground, var(--jp-content-font-color1, black)));\n",
       "  --sklearn-color-icon: #696969;\n",
       "\n",
       "  @media (prefers-color-scheme: dark) {\n",
       "    /* Redefinition of color scheme for dark theme */\n",
       "    --sklearn-color-text-on-default-background: var(--sg-text-color, var(--theme-code-foreground, var(--jp-content-font-color1, white)));\n",
       "    --sklearn-color-background: var(--sg-background-color, var(--theme-background, var(--jp-layout-color0, #111)));\n",
       "    --sklearn-color-border-box: var(--sg-text-color, var(--theme-code-foreground, var(--jp-content-font-color1, white)));\n",
       "    --sklearn-color-icon: #878787;\n",
       "  }\n",
       "}\n",
       "\n",
       "#sk-container-id-6 {\n",
       "  color: var(--sklearn-color-text);\n",
       "}\n",
       "\n",
       "#sk-container-id-6 pre {\n",
       "  padding: 0;\n",
       "}\n",
       "\n",
       "#sk-container-id-6 input.sk-hidden--visually {\n",
       "  border: 0;\n",
       "  clip: rect(1px 1px 1px 1px);\n",
       "  clip: rect(1px, 1px, 1px, 1px);\n",
       "  height: 1px;\n",
       "  margin: -1px;\n",
       "  overflow: hidden;\n",
       "  padding: 0;\n",
       "  position: absolute;\n",
       "  width: 1px;\n",
       "}\n",
       "\n",
       "#sk-container-id-6 div.sk-dashed-wrapped {\n",
       "  border: 1px dashed var(--sklearn-color-line);\n",
       "  margin: 0 0.4em 0.5em 0.4em;\n",
       "  box-sizing: border-box;\n",
       "  padding-bottom: 0.4em;\n",
       "  background-color: var(--sklearn-color-background);\n",
       "}\n",
       "\n",
       "#sk-container-id-6 div.sk-container {\n",
       "  /* jupyter's `normalize.less` sets `[hidden] { display: none; }`\n",
       "     but bootstrap.min.css set `[hidden] { display: none !important; }`\n",
       "     so we also need the `!important` here to be able to override the\n",
       "     default hidden behavior on the sphinx rendered scikit-learn.org.\n",
       "     See: https://github.com/scikit-learn/scikit-learn/issues/21755 */\n",
       "  display: inline-block !important;\n",
       "  position: relative;\n",
       "}\n",
       "\n",
       "#sk-container-id-6 div.sk-text-repr-fallback {\n",
       "  display: none;\n",
       "}\n",
       "\n",
       "div.sk-parallel-item,\n",
       "div.sk-serial,\n",
       "div.sk-item {\n",
       "  /* draw centered vertical line to link estimators */\n",
       "  background-image: linear-gradient(var(--sklearn-color-text-on-default-background), var(--sklearn-color-text-on-default-background));\n",
       "  background-size: 2px 100%;\n",
       "  background-repeat: no-repeat;\n",
       "  background-position: center center;\n",
       "}\n",
       "\n",
       "/* Parallel-specific style estimator block */\n",
       "\n",
       "#sk-container-id-6 div.sk-parallel-item::after {\n",
       "  content: \"\";\n",
       "  width: 100%;\n",
       "  border-bottom: 2px solid var(--sklearn-color-text-on-default-background);\n",
       "  flex-grow: 1;\n",
       "}\n",
       "\n",
       "#sk-container-id-6 div.sk-parallel {\n",
       "  display: flex;\n",
       "  align-items: stretch;\n",
       "  justify-content: center;\n",
       "  background-color: var(--sklearn-color-background);\n",
       "  position: relative;\n",
       "}\n",
       "\n",
       "#sk-container-id-6 div.sk-parallel-item {\n",
       "  display: flex;\n",
       "  flex-direction: column;\n",
       "}\n",
       "\n",
       "#sk-container-id-6 div.sk-parallel-item:first-child::after {\n",
       "  align-self: flex-end;\n",
       "  width: 50%;\n",
       "}\n",
       "\n",
       "#sk-container-id-6 div.sk-parallel-item:last-child::after {\n",
       "  align-self: flex-start;\n",
       "  width: 50%;\n",
       "}\n",
       "\n",
       "#sk-container-id-6 div.sk-parallel-item:only-child::after {\n",
       "  width: 0;\n",
       "}\n",
       "\n",
       "/* Serial-specific style estimator block */\n",
       "\n",
       "#sk-container-id-6 div.sk-serial {\n",
       "  display: flex;\n",
       "  flex-direction: column;\n",
       "  align-items: center;\n",
       "  background-color: var(--sklearn-color-background);\n",
       "  padding-right: 1em;\n",
       "  padding-left: 1em;\n",
       "}\n",
       "\n",
       "\n",
       "/* Toggleable style: style used for estimator/Pipeline/ColumnTransformer box that is\n",
       "clickable and can be expanded/collapsed.\n",
       "- Pipeline and ColumnTransformer use this feature and define the default style\n",
       "- Estimators will overwrite some part of the style using the `sk-estimator` class\n",
       "*/\n",
       "\n",
       "/* Pipeline and ColumnTransformer style (default) */\n",
       "\n",
       "#sk-container-id-6 div.sk-toggleable {\n",
       "  /* Default theme specific background. It is overwritten whether we have a\n",
       "  specific estimator or a Pipeline/ColumnTransformer */\n",
       "  background-color: var(--sklearn-color-background);\n",
       "}\n",
       "\n",
       "/* Toggleable label */\n",
       "#sk-container-id-6 label.sk-toggleable__label {\n",
       "  cursor: pointer;\n",
       "  display: block;\n",
       "  width: 100%;\n",
       "  margin-bottom: 0;\n",
       "  padding: 0.5em;\n",
       "  box-sizing: border-box;\n",
       "  text-align: center;\n",
       "}\n",
       "\n",
       "#sk-container-id-6 label.sk-toggleable__label-arrow:before {\n",
       "  /* Arrow on the left of the label */\n",
       "  content: \"▸\";\n",
       "  float: left;\n",
       "  margin-right: 0.25em;\n",
       "  color: var(--sklearn-color-icon);\n",
       "}\n",
       "\n",
       "#sk-container-id-6 label.sk-toggleable__label-arrow:hover:before {\n",
       "  color: var(--sklearn-color-text);\n",
       "}\n",
       "\n",
       "/* Toggleable content - dropdown */\n",
       "\n",
       "#sk-container-id-6 div.sk-toggleable__content {\n",
       "  max-height: 0;\n",
       "  max-width: 0;\n",
       "  overflow: hidden;\n",
       "  text-align: left;\n",
       "  /* unfitted */\n",
       "  background-color: var(--sklearn-color-unfitted-level-0);\n",
       "}\n",
       "\n",
       "#sk-container-id-6 div.sk-toggleable__content.fitted {\n",
       "  /* fitted */\n",
       "  background-color: var(--sklearn-color-fitted-level-0);\n",
       "}\n",
       "\n",
       "#sk-container-id-6 div.sk-toggleable__content pre {\n",
       "  margin: 0.2em;\n",
       "  border-radius: 0.25em;\n",
       "  color: var(--sklearn-color-text);\n",
       "  /* unfitted */\n",
       "  background-color: var(--sklearn-color-unfitted-level-0);\n",
       "}\n",
       "\n",
       "#sk-container-id-6 div.sk-toggleable__content.fitted pre {\n",
       "  /* unfitted */\n",
       "  background-color: var(--sklearn-color-fitted-level-0);\n",
       "}\n",
       "\n",
       "#sk-container-id-6 input.sk-toggleable__control:checked~div.sk-toggleable__content {\n",
       "  /* Expand drop-down */\n",
       "  max-height: 200px;\n",
       "  max-width: 100%;\n",
       "  overflow: auto;\n",
       "}\n",
       "\n",
       "#sk-container-id-6 input.sk-toggleable__control:checked~label.sk-toggleable__label-arrow:before {\n",
       "  content: \"▾\";\n",
       "}\n",
       "\n",
       "/* Pipeline/ColumnTransformer-specific style */\n",
       "\n",
       "#sk-container-id-6 div.sk-label input.sk-toggleable__control:checked~label.sk-toggleable__label {\n",
       "  color: var(--sklearn-color-text);\n",
       "  background-color: var(--sklearn-color-unfitted-level-2);\n",
       "}\n",
       "\n",
       "#sk-container-id-6 div.sk-label.fitted input.sk-toggleable__control:checked~label.sk-toggleable__label {\n",
       "  background-color: var(--sklearn-color-fitted-level-2);\n",
       "}\n",
       "\n",
       "/* Estimator-specific style */\n",
       "\n",
       "/* Colorize estimator box */\n",
       "#sk-container-id-6 div.sk-estimator input.sk-toggleable__control:checked~label.sk-toggleable__label {\n",
       "  /* unfitted */\n",
       "  background-color: var(--sklearn-color-unfitted-level-2);\n",
       "}\n",
       "\n",
       "#sk-container-id-6 div.sk-estimator.fitted input.sk-toggleable__control:checked~label.sk-toggleable__label {\n",
       "  /* fitted */\n",
       "  background-color: var(--sklearn-color-fitted-level-2);\n",
       "}\n",
       "\n",
       "#sk-container-id-6 div.sk-label label.sk-toggleable__label,\n",
       "#sk-container-id-6 div.sk-label label {\n",
       "  /* The background is the default theme color */\n",
       "  color: var(--sklearn-color-text-on-default-background);\n",
       "}\n",
       "\n",
       "/* On hover, darken the color of the background */\n",
       "#sk-container-id-6 div.sk-label:hover label.sk-toggleable__label {\n",
       "  color: var(--sklearn-color-text);\n",
       "  background-color: var(--sklearn-color-unfitted-level-2);\n",
       "}\n",
       "\n",
       "/* Label box, darken color on hover, fitted */\n",
       "#sk-container-id-6 div.sk-label.fitted:hover label.sk-toggleable__label.fitted {\n",
       "  color: var(--sklearn-color-text);\n",
       "  background-color: var(--sklearn-color-fitted-level-2);\n",
       "}\n",
       "\n",
       "/* Estimator label */\n",
       "\n",
       "#sk-container-id-6 div.sk-label label {\n",
       "  font-family: monospace;\n",
       "  font-weight: bold;\n",
       "  display: inline-block;\n",
       "  line-height: 1.2em;\n",
       "}\n",
       "\n",
       "#sk-container-id-6 div.sk-label-container {\n",
       "  text-align: center;\n",
       "}\n",
       "\n",
       "/* Estimator-specific */\n",
       "#sk-container-id-6 div.sk-estimator {\n",
       "  font-family: monospace;\n",
       "  border: 1px dotted var(--sklearn-color-border-box);\n",
       "  border-radius: 0.25em;\n",
       "  box-sizing: border-box;\n",
       "  margin-bottom: 0.5em;\n",
       "  /* unfitted */\n",
       "  background-color: var(--sklearn-color-unfitted-level-0);\n",
       "}\n",
       "\n",
       "#sk-container-id-6 div.sk-estimator.fitted {\n",
       "  /* fitted */\n",
       "  background-color: var(--sklearn-color-fitted-level-0);\n",
       "}\n",
       "\n",
       "/* on hover */\n",
       "#sk-container-id-6 div.sk-estimator:hover {\n",
       "  /* unfitted */\n",
       "  background-color: var(--sklearn-color-unfitted-level-2);\n",
       "}\n",
       "\n",
       "#sk-container-id-6 div.sk-estimator.fitted:hover {\n",
       "  /* fitted */\n",
       "  background-color: var(--sklearn-color-fitted-level-2);\n",
       "}\n",
       "\n",
       "/* Specification for estimator info (e.g. \"i\" and \"?\") */\n",
       "\n",
       "/* Common style for \"i\" and \"?\" */\n",
       "\n",
       ".sk-estimator-doc-link,\n",
       "a:link.sk-estimator-doc-link,\n",
       "a:visited.sk-estimator-doc-link {\n",
       "  float: right;\n",
       "  font-size: smaller;\n",
       "  line-height: 1em;\n",
       "  font-family: monospace;\n",
       "  background-color: var(--sklearn-color-background);\n",
       "  border-radius: 1em;\n",
       "  height: 1em;\n",
       "  width: 1em;\n",
       "  text-decoration: none !important;\n",
       "  margin-left: 1ex;\n",
       "  /* unfitted */\n",
       "  border: var(--sklearn-color-unfitted-level-1) 1pt solid;\n",
       "  color: var(--sklearn-color-unfitted-level-1);\n",
       "}\n",
       "\n",
       ".sk-estimator-doc-link.fitted,\n",
       "a:link.sk-estimator-doc-link.fitted,\n",
       "a:visited.sk-estimator-doc-link.fitted {\n",
       "  /* fitted */\n",
       "  border: var(--sklearn-color-fitted-level-1) 1pt solid;\n",
       "  color: var(--sklearn-color-fitted-level-1);\n",
       "}\n",
       "\n",
       "/* On hover */\n",
       "div.sk-estimator:hover .sk-estimator-doc-link:hover,\n",
       ".sk-estimator-doc-link:hover,\n",
       "div.sk-label-container:hover .sk-estimator-doc-link:hover,\n",
       ".sk-estimator-doc-link:hover {\n",
       "  /* unfitted */\n",
       "  background-color: var(--sklearn-color-unfitted-level-3);\n",
       "  color: var(--sklearn-color-background);\n",
       "  text-decoration: none;\n",
       "}\n",
       "\n",
       "div.sk-estimator.fitted:hover .sk-estimator-doc-link.fitted:hover,\n",
       ".sk-estimator-doc-link.fitted:hover,\n",
       "div.sk-label-container:hover .sk-estimator-doc-link.fitted:hover,\n",
       ".sk-estimator-doc-link.fitted:hover {\n",
       "  /* fitted */\n",
       "  background-color: var(--sklearn-color-fitted-level-3);\n",
       "  color: var(--sklearn-color-background);\n",
       "  text-decoration: none;\n",
       "}\n",
       "\n",
       "/* Span, style for the box shown on hovering the info icon */\n",
       ".sk-estimator-doc-link span {\n",
       "  display: none;\n",
       "  z-index: 9999;\n",
       "  position: relative;\n",
       "  font-weight: normal;\n",
       "  right: .2ex;\n",
       "  padding: .5ex;\n",
       "  margin: .5ex;\n",
       "  width: min-content;\n",
       "  min-width: 20ex;\n",
       "  max-width: 50ex;\n",
       "  color: var(--sklearn-color-text);\n",
       "  box-shadow: 2pt 2pt 4pt #999;\n",
       "  /* unfitted */\n",
       "  background: var(--sklearn-color-unfitted-level-0);\n",
       "  border: .5pt solid var(--sklearn-color-unfitted-level-3);\n",
       "}\n",
       "\n",
       ".sk-estimator-doc-link.fitted span {\n",
       "  /* fitted */\n",
       "  background: var(--sklearn-color-fitted-level-0);\n",
       "  border: var(--sklearn-color-fitted-level-3);\n",
       "}\n",
       "\n",
       ".sk-estimator-doc-link:hover span {\n",
       "  display: block;\n",
       "}\n",
       "\n",
       "/* \"?\"-specific style due to the `<a>` HTML tag */\n",
       "\n",
       "#sk-container-id-6 a.estimator_doc_link {\n",
       "  float: right;\n",
       "  font-size: 1rem;\n",
       "  line-height: 1em;\n",
       "  font-family: monospace;\n",
       "  background-color: var(--sklearn-color-background);\n",
       "  border-radius: 1rem;\n",
       "  height: 1rem;\n",
       "  width: 1rem;\n",
       "  text-decoration: none;\n",
       "  /* unfitted */\n",
       "  color: var(--sklearn-color-unfitted-level-1);\n",
       "  border: var(--sklearn-color-unfitted-level-1) 1pt solid;\n",
       "}\n",
       "\n",
       "#sk-container-id-6 a.estimator_doc_link.fitted {\n",
       "  /* fitted */\n",
       "  border: var(--sklearn-color-fitted-level-1) 1pt solid;\n",
       "  color: var(--sklearn-color-fitted-level-1);\n",
       "}\n",
       "\n",
       "/* On hover */\n",
       "#sk-container-id-6 a.estimator_doc_link:hover {\n",
       "  /* unfitted */\n",
       "  background-color: var(--sklearn-color-unfitted-level-3);\n",
       "  color: var(--sklearn-color-background);\n",
       "  text-decoration: none;\n",
       "}\n",
       "\n",
       "#sk-container-id-6 a.estimator_doc_link.fitted:hover {\n",
       "  /* fitted */\n",
       "  background-color: var(--sklearn-color-fitted-level-3);\n",
       "}\n",
       "</style><div id=\"sk-container-id-6\" class=\"sk-top-container\"><div class=\"sk-text-repr-fallback\"><pre>LogisticRegression(C=100, solver=&#x27;liblinear&#x27;)</pre><b>In a Jupyter environment, please rerun this cell to show the HTML representation or trust the notebook. <br />On GitHub, the HTML representation is unable to render, please try loading this page with nbviewer.org.</b></div><div class=\"sk-container\" hidden><div class=\"sk-item\"><div class=\"sk-estimator fitted sk-toggleable\"><input class=\"sk-toggleable__control sk-hidden--visually\" id=\"sk-estimator-id-6\" type=\"checkbox\" checked><label for=\"sk-estimator-id-6\" class=\"sk-toggleable__label fitted sk-toggleable__label-arrow fitted\">&nbsp;&nbsp;LogisticRegression<a class=\"sk-estimator-doc-link fitted\" rel=\"noreferrer\" target=\"_blank\" href=\"https://scikit-learn.org/1.5/modules/generated/sklearn.linear_model.LogisticRegression.html\">?<span>Documentation for LogisticRegression</span></a><span class=\"sk-estimator-doc-link fitted\">i<span>Fitted</span></span></label><div class=\"sk-toggleable__content fitted\"><pre>LogisticRegression(C=100, solver=&#x27;liblinear&#x27;)</pre></div> </div></div></div></div>"
      ],
      "text/plain": [
       "LogisticRegression(C=100, solver='liblinear')"
      ]
     },
     "execution_count": 269,
     "metadata": {},
     "output_type": "execute_result"
    }
   ],
   "source": [
    "# Define parameter grid\n",
    "param_grid_lr = {'C': [0.01, 0.1, 1, 10, 100], 'solver': ['liblinear', 'lbfgs']}\n",
    "\n",
    "# Perform Grid Search\n",
    "grid_search_lrc = GridSearchCV(LogisticRegression(), param_grid_lr, cv=3, scoring='accuracy', n_jobs=-1)\n",
    "grid_search_lrc.fit(vectorized_X_train_smote_category,Z_train_smote)\n",
    "\n",
    "best_params_lrc = grid_search_lrc.best_params_\n",
    "print(f\"Best parameters for Logistic Regression: {best_params_lrc}\")\n",
    "\n",
    "lrc = LogisticRegression(**best_params_lrc)\n",
    "lrc.fit(vectorized_X_train_smote_category,Z_train_smote)"
   ]
  },
  {
   "cell_type": "code",
   "execution_count": 270,
   "id": "829ab2c6-bdd0-40a8-aaf5-b9b5919b0d61",
   "metadata": {
    "dotnet_interactive": {
     "language": "csharp"
    },
    "polyglot_notebook": {
     "kernelName": "csharp"
    },
    "vscode": {
     "languageId": "polyglot-notebook"
    }
   },
   "outputs": [],
   "source": [
    "Z_train_predict=lrc.predict(vectorized_X_train_smote_category)"
   ]
  },
  {
   "cell_type": "code",
   "execution_count": 271,
   "id": "71d91d85-0ece-420f-a575-84f15b03ffae",
   "metadata": {
    "dotnet_interactive": {
     "language": "csharp"
    },
    "polyglot_notebook": {
     "kernelName": "csharp"
    },
    "vscode": {
     "languageId": "polyglot-notebook"
    }
   },
   "outputs": [
    {
     "data": {
      "text/plain": [
       "array([10,  0,  1, ...,  1,  1,  1])"
      ]
     },
     "execution_count": 271,
     "metadata": {},
     "output_type": "execute_result"
    }
   ],
   "source": [
    "Z_train_predict"
   ]
  },
  {
   "cell_type": "code",
   "execution_count": 272,
   "id": "71914357-44de-4ec6-af95-9b22edef2dd2",
   "metadata": {
    "dotnet_interactive": {
     "language": "csharp"
    },
    "polyglot_notebook": {
     "kernelName": "csharp"
    },
    "vscode": {
     "languageId": "polyglot-notebook"
    }
   },
   "outputs": [
    {
     "data": {
      "text/plain": [
       "0       10\n",
       "1        0\n",
       "2        1\n",
       "3        1\n",
       "4        0\n",
       "        ..\n",
       "6118     1\n",
       "6119     1\n",
       "6120     1\n",
       "6121     1\n",
       "6122     1\n",
       "Name: category (binary), Length: 6123, dtype: int64"
      ]
     },
     "execution_count": 272,
     "metadata": {},
     "output_type": "execute_result"
    }
   ],
   "source": [
    "Z_train_smote"
   ]
  },
  {
   "cell_type": "code",
   "execution_count": 273,
   "id": "6395f056-7bbf-4ace-a8ed-6a8dc02310f9",
   "metadata": {
    "dotnet_interactive": {
     "language": "csharp"
    },
    "polyglot_notebook": {
     "kernelName": "csharp"
    },
    "vscode": {
     "languageId": "polyglot-notebook"
    }
   },
   "outputs": [
    {
     "name": "stdout",
     "output_type": "stream",
     "text": [
      "Training Scores:\n",
      "\tAccuracy: 1.0\n",
      "\tPrecision: 1.0\n",
      "\tRecall: 1.0\n",
      "\tF1-Score: 1.0\n",
      "\n"
     ]
    }
   ],
   "source": [
    "training_scores(Z_train_smote,Z_train_predict)"
   ]
  },
  {
   "cell_type": "code",
   "execution_count": 274,
   "id": "a9d2518a-628b-4fbc-b760-6d0aaf155d21",
   "metadata": {
    "dotnet_interactive": {
     "language": "csharp"
    },
    "polyglot_notebook": {
     "kernelName": "csharp"
    },
    "vscode": {
     "languageId": "polyglot-notebook"
    }
   },
   "outputs": [],
   "source": [
    "Z_test_predict=lrc.predict(vectorized_X_test)"
   ]
  },
  {
   "cell_type": "code",
   "execution_count": 275,
   "id": "3787e5d0-2ec8-40de-a1cf-bf8c93e3100c",
   "metadata": {
    "dotnet_interactive": {
     "language": "csharp"
    },
    "polyglot_notebook": {
     "kernelName": "csharp"
    },
    "vscode": {
     "languageId": "polyglot-notebook"
    }
   },
   "outputs": [
    {
     "data": {
      "text/plain": [
       "array([1, 1, 1, ..., 0, 0, 1])"
      ]
     },
     "execution_count": 275,
     "metadata": {},
     "output_type": "execute_result"
    }
   ],
   "source": [
    "Z_test_predict"
   ]
  },
  {
   "cell_type": "code",
   "execution_count": 276,
   "id": "04d4bedc-76b7-4843-ac8c-1890daa80cf5",
   "metadata": {
    "dotnet_interactive": {
     "language": "csharp"
    },
    "polyglot_notebook": {
     "kernelName": "csharp"
    },
    "vscode": {
     "languageId": "polyglot-notebook"
    }
   },
   "outputs": [
    {
     "data": {
      "text/plain": [
       "6063     1\n",
       "6287     1\n",
       "7239     1\n",
       "3766    10\n",
       "1620     0\n",
       "        ..\n",
       "631      0\n",
       "571      0\n",
       "1852     0\n",
       "1488     0\n",
       "5288     1\n",
       "Name: category (binary), Length: 1495, dtype: int64"
      ]
     },
     "execution_count": 276,
     "metadata": {},
     "output_type": "execute_result"
    }
   ],
   "source": [
    "Z_test"
   ]
  },
  {
   "cell_type": "code",
   "execution_count": 277,
   "id": "f931010f-2b52-4736-96b4-e7eadc5884de",
   "metadata": {
    "dotnet_interactive": {
     "language": "csharp"
    },
    "polyglot_notebook": {
     "kernelName": "csharp"
    },
    "vscode": {
     "languageId": "polyglot-notebook"
    }
   },
   "outputs": [
    {
     "name": "stdout",
     "output_type": "stream",
     "text": [
      "Testing Scores:\n",
      "\tAccuracy: 0.981\n",
      "\tPrecision: 0.981\n",
      "\tRecall: 0.981\n",
      "\tF1-Score: 0.981\n",
      "\n"
     ]
    }
   ],
   "source": [
    " validation_scores(Z_test, Z_test_predict)"
   ]
  },
  {
   "cell_type": "markdown",
   "id": "6f0085f6-785a-40cd-8ce2-c0763a350de1",
   "metadata": {},
   "source": [
    "##### Naive Baiyes"
   ]
  },
  {
   "cell_type": "code",
   "execution_count": 278,
   "id": "b2f19f06-8eb7-4974-9b0d-bac8afbac34f",
   "metadata": {
    "dotnet_interactive": {
     "language": "csharp"
    },
    "polyglot_notebook": {
     "kernelName": "csharp"
    },
    "vscode": {
     "languageId": "polyglot-notebook"
    }
   },
   "outputs": [
    {
     "name": "stdout",
     "output_type": "stream",
     "text": [
      "Best alpha for Naïve Bayes: 10\n",
      "Training Scores:\n",
      "\tAccuracy: 0.986\n",
      "\tPrecision: 0.986\n",
      "\tRecall: 0.986\n",
      "\tF1-Score: 0.986\n",
      "\n",
      "Testing Scores:\n",
      "\tAccuracy: 0.975\n",
      "\tPrecision: 0.975\n",
      "\tRecall: 0.975\n",
      "\tF1-Score: 0.975\n",
      "\n"
     ]
    }
   ],
   "source": [
    "# Define hyperparameter grid for Multinomial Naïve Bayes\n",
    "param_grid_nb = {'alpha': [0.001, 0.01, 0.1, 1, 10]}\n",
    "\n",
    "# Perform Grid Search\n",
    "grid_search_nbc = GridSearchCV(MultinomialNB(), param_grid_nb, cv=3, scoring='accuracy', n_jobs=-1)\n",
    "grid_search_nbc.fit(vectorized_X_train_smote_category,Z_train_smote)  # Fit to training data\n",
    "\n",
    "# Get the best hyperparameter\n",
    "best_alpha_nbc = grid_search_nbc.best_params_['alpha']\n",
    "print(f\"Best alpha for Naïve Bayes: {best_alpha_nbc}\")\n",
    "\n",
    "# Train the best model\n",
    "mnbc = MultinomialNB(alpha=best_alpha_nb)\n",
    "mnbc.fit(vectorized_X_train_smote_category,Z_train_smote)\n",
    "Z_train_predict=mnbc.predict(vectorized_X_train_smote_category)\n",
    "Z_test_predict=mnbc.predict(vectorized_X_test)\n",
    "training_scores(Z_train_smote,Z_train_predict)\n",
    "validation_scores(Z_test, Z_test_predict)"
   ]
  },
  {
   "cell_type": "markdown",
   "id": "45d30c67-2f09-400d-9aa8-a2c4a4aaa841",
   "metadata": {},
   "source": [
    "##### Decision Tree"
   ]
  },
  {
   "cell_type": "code",
   "execution_count": 279,
   "id": "b1fe38dd-1252-4e78-ab2e-ceebb4f8d0ec",
   "metadata": {
    "dotnet_interactive": {
     "language": "csharp"
    },
    "polyglot_notebook": {
     "kernelName": "csharp"
    },
    "vscode": {
     "languageId": "polyglot-notebook"
    }
   },
   "outputs": [
    {
     "name": "stdout",
     "output_type": "stream",
     "text": [
      "Best parameters for Decision Tree: {'max_depth': 10, 'min_samples_leaf': 1, 'min_samples_split': 2}\n",
      "Training Scores:\n",
      "\tAccuracy: 1.0\n",
      "\tPrecision: 1.0\n",
      "\tRecall: 1.0\n",
      "\tF1-Score: 1.0\n",
      "\n",
      "Testing Scores:\n",
      "\tAccuracy: 0.936\n",
      "\tPrecision: 0.936\n",
      "\tRecall: 0.936\n",
      "\tF1-Score: 0.936\n",
      "\n"
     ]
    }
   ],
   "source": [
    "param_grid_dt = {\n",
    "    'max_depth': [5, 10, 20, None],\n",
    "    'min_samples_split': [2, 5, 10],\n",
    "    'min_samples_leaf': [1, 2, 5]\n",
    "}\n",
    "\n",
    "grid_search_dtc = GridSearchCV(DecisionTreeClassifier(), param_grid_dt, cv=3, scoring='accuracy', n_jobs=-1)\n",
    "grid_search_dtc.fit(vectorized_X_train_smote_category,Z_train_smote)\n",
    "\n",
    "best_params_dtc = grid_search_dtc.best_params_\n",
    "print(f\"Best parameters for Decision Tree: {best_params_dtc}\")\n",
    "dtc = DecisionTreeClassifier(**best_params_dt)\n",
    "dtc.fit(vectorized_X_train_smote_category,Z_train_smote)\n",
    "Z_train_predict=dtc.predict(vectorized_X_train_smote_category)\n",
    "Z_test_predict=dtc.predict(vectorized_X_test)\n",
    "training_scores(Z_train_smote,Z_train_predict)\n",
    "validation_scores(Z_test, Z_test_predict)"
   ]
  },
  {
   "cell_type": "markdown",
   "id": "e9908128-bb52-4f99-b8bb-6b6c566dfcc6",
   "metadata": {},
   "source": [
    "##### Random Forest"
   ]
  },
  {
   "cell_type": "code",
   "execution_count": 280,
   "id": "e060aaa0-7aa6-42b4-a890-5f64f8881a70",
   "metadata": {
    "dotnet_interactive": {
     "language": "csharp"
    },
    "polyglot_notebook": {
     "kernelName": "csharp"
    },
    "vscode": {
     "languageId": "polyglot-notebook"
    }
   },
   "outputs": [
    {
     "name": "stdout",
     "output_type": "stream",
     "text": [
      "Best parameters for Random Forest: {'max_depth': None, 'min_samples_leaf': 1, 'min_samples_split': 10, 'n_estimators': 200}\n",
      "Training Scores:\n",
      "\tAccuracy: 1.0\n",
      "\tPrecision: 1.0\n",
      "\tRecall: 1.0\n",
      "\tF1-Score: 1.0\n",
      "\n",
      "Testing Scores:\n",
      "\tAccuracy: 0.977\n",
      "\tPrecision: 0.977\n",
      "\tRecall: 0.977\n",
      "\tF1-Score: 0.977\n",
      "\n"
     ]
    }
   ],
   "source": [
    "param_grid_rf = {\n",
    "    'n_estimators': [50, 100, 200],\n",
    "    'max_depth': [5, 10, 20, None],\n",
    "    'min_samples_split': [2, 5, 10],\n",
    "    'min_samples_leaf': [1, 2, 5]\n",
    "}\n",
    "\n",
    "grid_search_rfc = GridSearchCV(RandomForestClassifier(), param_grid_rf, cv=3, scoring='accuracy', n_jobs=-1)\n",
    "grid_search_rfc.fit(vectorized_X_train_smote_category,Z_train_smote)\n",
    "\n",
    "best_params_rfc = grid_search_rfc.best_params_\n",
    "print(f\"Best parameters for Random Forest: {best_params_rfc}\")\n",
    "\n",
    "rfc = RandomForestClassifier(**best_params_rf)\n",
    "rfc.fit(vectorized_X_train_smote_category,Z_train_smote)\n",
    "Z_train_predict=rfc.predict(vectorized_X_train_smote_category)\n",
    "Z_test_predict=rfc.predict(vectorized_X_test)\n",
    "training_scores(Z_train_smote,Z_train_predict)\n",
    "validation_scores(Z_test, Z_test_predict)"
   ]
  },
  {
   "cell_type": "markdown",
   "id": "e6b08382-898b-40cf-89aa-83e2c5d2c04c",
   "metadata": {},
   "source": [
    "##### Support vector machine"
   ]
  },
  {
   "cell_type": "code",
   "execution_count": 281,
   "id": "4e126afa-4f9b-49a4-8767-f690cc5ecb66",
   "metadata": {
    "dotnet_interactive": {
     "language": "csharp"
    },
    "polyglot_notebook": {
     "kernelName": "csharp"
    },
    "vscode": {
     "languageId": "polyglot-notebook"
    }
   },
   "outputs": [
    {
     "name": "stdout",
     "output_type": "stream",
     "text": [
      "Best parameters for SVM: {'C': 10, 'gamma': 'scale', 'kernel': 'rbf'}\n",
      "Training Scores:\n",
      "\tAccuracy: 1.0\n",
      "\tPrecision: 1.0\n",
      "\tRecall: 1.0\n",
      "\tF1-Score: 1.0\n",
      "\n",
      "Testing Scores:\n",
      "\tAccuracy: 0.985\n",
      "\tPrecision: 0.985\n",
      "\tRecall: 0.985\n",
      "\tF1-Score: 0.985\n",
      "\n"
     ]
    }
   ],
   "source": [
    "param_grid_svm = {\n",
    "    'C': [0.1, 1, 10, 100],\n",
    "    'kernel': ['linear', 'rbf', 'poly'],\n",
    "    'gamma': ['scale', 'auto']\n",
    "}\n",
    "\n",
    "grid_search_svmc = GridSearchCV(SVC(), param_grid_svm, cv=3, scoring='accuracy', n_jobs=-1)\n",
    "grid_search_svmc.fit(vectorized_X_train_smote_category,Z_train_smote)\n",
    "\n",
    "best_params_svmc = grid_search_svmc.best_params_\n",
    "print(f\"Best parameters for SVM: {best_params_svmc}\")\n",
    "\n",
    "svmc = SVC(**best_params_svm)\n",
    "svmc.fit(vectorized_X_train_smote_category,Z_train_smote)\n",
    "Z_train_predict=svmc.predict(vectorized_X_train_smote_category)\n",
    "Z_test_predict=svmc.predict(vectorized_X_test)\n",
    "training_scores(Z_train_smote,Z_train_predict)\n",
    "validation_scores(Z_test, Z_test_predict)"
   ]
  },
  {
   "cell_type": "markdown",
   "id": "06c6b66f-8964-4f40-9308-704ac20857f9",
   "metadata": {},
   "source": [
    "### Saving the model"
   ]
  },
  {
   "cell_type": "code",
   "execution_count": 282,
   "id": "039e0ac3-8408-4be0-94ce-1cffcc0303a8",
   "metadata": {
    "dotnet_interactive": {
     "language": "csharp"
    },
    "polyglot_notebook": {
     "kernelName": "csharp"
    },
    "vscode": {
     "languageId": "polyglot-notebook"
    }
   },
   "outputs": [],
   "source": [
    "import pickle\n",
    "with open ('../static/model/categorization_model.pickle','wb') as file:\n",
    "    pickle.dump(mnbc,file)"
   ]
  },
  {
   "cell_type": "code",
   "execution_count": null,
   "id": "8a11f7a7-e850-4b93-bcbe-f5513ca9121b",
   "metadata": {},
   "outputs": [],
   "source": []
  }
 ],
 "metadata": {
  "kernelspec": {
   "display_name": "Python 3 (ipykernel)",
   "language": "python",
   "name": "python3"
  },
  "language_info": {
   "codemirror_mode": {
    "name": "ipython",
    "version": 3
   },
   "file_extension": ".py",
   "mimetype": "text/x-python",
   "name": "python",
   "nbconvert_exporter": "python",
   "pygments_lexer": "ipython3",
   "version": "3.13.0"
  },
  "polyglot_notebook": {
   "kernelInfo": {
    "defaultKernelName": "csharp",
    "items": [
     {
      "aliases": [],
      "name": "csharp"
     }
    ]
   }
  }
 },
 "nbformat": 4,
 "nbformat_minor": 5
}
